{
 "cells": [
  {
   "cell_type": "code",
   "execution_count": 1,
   "id": "a1eff5df-e219-4dc8-8a22-40ce22763213",
   "metadata": {
    "slideshow": {
     "slide_type": "slide"
    },
    "tags": []
   },
   "outputs": [],
   "source": [
    "#Run the following code to print multiple outputs from a cell\n",
    "get_ipython().ast_node_interactivity = 'all'"
   ]
  },
  {
   "cell_type": "markdown",
   "id": "95f0fa0c-294a-483a-b6e5-f82f1ba0e822",
   "metadata": {},
   "source": [
    "# Neural Networks\n",
    "\n",
    "## Importing & Setting up the Data\n",
    "Import the file, \"creditCardDefaultReduced.csv\", and save it in a variable called `df`. "
   ]
  },
  {
   "cell_type": "code",
   "execution_count": 2,
   "id": "9a3f3516-7be8-4b4e-bf29-f4804f38465b",
   "metadata": {},
   "outputs": [
    {
     "data": {
      "text/html": [
       "<div>\n",
       "<style scoped>\n",
       "    .dataframe tbody tr th:only-of-type {\n",
       "        vertical-align: middle;\n",
       "    }\n",
       "\n",
       "    .dataframe tbody tr th {\n",
       "        vertical-align: top;\n",
       "    }\n",
       "\n",
       "    .dataframe thead th {\n",
       "        text-align: right;\n",
       "    }\n",
       "</style>\n",
       "<table border=\"1\" class=\"dataframe\">\n",
       "  <thead>\n",
       "    <tr style=\"text-align: right;\">\n",
       "      <th></th>\n",
       "      <th>Limit_Bal</th>\n",
       "      <th>Education</th>\n",
       "      <th>Marriage</th>\n",
       "      <th>Age</th>\n",
       "      <th>Pay_0</th>\n",
       "      <th>Bill_Amt1</th>\n",
       "      <th>Pay_Amt1</th>\n",
       "      <th>Payment</th>\n",
       "      <th>Card</th>\n",
       "    </tr>\n",
       "  </thead>\n",
       "  <tbody>\n",
       "    <tr>\n",
       "      <th>0</th>\n",
       "      <td>20000</td>\n",
       "      <td>University</td>\n",
       "      <td>married</td>\n",
       "      <td>24</td>\n",
       "      <td>Delay2</td>\n",
       "      <td>3913</td>\n",
       "      <td>0</td>\n",
       "      <td>Missed</td>\n",
       "      <td>Normal</td>\n",
       "    </tr>\n",
       "    <tr>\n",
       "      <th>1</th>\n",
       "      <td>120000</td>\n",
       "      <td>University</td>\n",
       "      <td>single</td>\n",
       "      <td>26</td>\n",
       "      <td>ontime</td>\n",
       "      <td>2682</td>\n",
       "      <td>0</td>\n",
       "      <td>Missed</td>\n",
       "      <td>Normal</td>\n",
       "    </tr>\n",
       "    <tr>\n",
       "      <th>2</th>\n",
       "      <td>90000</td>\n",
       "      <td>University</td>\n",
       "      <td>single</td>\n",
       "      <td>34</td>\n",
       "      <td>Delay0</td>\n",
       "      <td>29239</td>\n",
       "      <td>1518</td>\n",
       "      <td>Paid</td>\n",
       "      <td>Normal</td>\n",
       "    </tr>\n",
       "    <tr>\n",
       "      <th>3</th>\n",
       "      <td>50000</td>\n",
       "      <td>University</td>\n",
       "      <td>married</td>\n",
       "      <td>37</td>\n",
       "      <td>Delay0</td>\n",
       "      <td>46990</td>\n",
       "      <td>2000</td>\n",
       "      <td>Paid</td>\n",
       "      <td>Normal</td>\n",
       "    </tr>\n",
       "    <tr>\n",
       "      <th>4</th>\n",
       "      <td>50000</td>\n",
       "      <td>University</td>\n",
       "      <td>married</td>\n",
       "      <td>57</td>\n",
       "      <td>ontime</td>\n",
       "      <td>8617</td>\n",
       "      <td>2000</td>\n",
       "      <td>Paid</td>\n",
       "      <td>Gold</td>\n",
       "    </tr>\n",
       "    <tr>\n",
       "      <th>...</th>\n",
       "      <td>...</td>\n",
       "      <td>...</td>\n",
       "      <td>...</td>\n",
       "      <td>...</td>\n",
       "      <td>...</td>\n",
       "      <td>...</td>\n",
       "      <td>...</td>\n",
       "      <td>...</td>\n",
       "      <td>...</td>\n",
       "    </tr>\n",
       "    <tr>\n",
       "      <th>29995</th>\n",
       "      <td>220000</td>\n",
       "      <td>High school</td>\n",
       "      <td>married</td>\n",
       "      <td>39</td>\n",
       "      <td>Delay0</td>\n",
       "      <td>188948</td>\n",
       "      <td>8500</td>\n",
       "      <td>Paid</td>\n",
       "      <td>Gold</td>\n",
       "    </tr>\n",
       "    <tr>\n",
       "      <th>29996</th>\n",
       "      <td>150000</td>\n",
       "      <td>High school</td>\n",
       "      <td>single</td>\n",
       "      <td>43</td>\n",
       "      <td>ontime</td>\n",
       "      <td>1683</td>\n",
       "      <td>1837</td>\n",
       "      <td>Paid</td>\n",
       "      <td>Gold</td>\n",
       "    </tr>\n",
       "    <tr>\n",
       "      <th>29997</th>\n",
       "      <td>30000</td>\n",
       "      <td>University</td>\n",
       "      <td>single</td>\n",
       "      <td>37</td>\n",
       "      <td>Delay4</td>\n",
       "      <td>3565</td>\n",
       "      <td>0</td>\n",
       "      <td>Missed</td>\n",
       "      <td>Gold</td>\n",
       "    </tr>\n",
       "    <tr>\n",
       "      <th>29998</th>\n",
       "      <td>80000</td>\n",
       "      <td>High school</td>\n",
       "      <td>married</td>\n",
       "      <td>41</td>\n",
       "      <td>Delay1</td>\n",
       "      <td>-1645</td>\n",
       "      <td>85900</td>\n",
       "      <td>Missed</td>\n",
       "      <td>Gold</td>\n",
       "    </tr>\n",
       "    <tr>\n",
       "      <th>29999</th>\n",
       "      <td>50000</td>\n",
       "      <td>University</td>\n",
       "      <td>married</td>\n",
       "      <td>46</td>\n",
       "      <td>Delay0</td>\n",
       "      <td>47929</td>\n",
       "      <td>2078</td>\n",
       "      <td>Missed</td>\n",
       "      <td>Gold</td>\n",
       "    </tr>\n",
       "  </tbody>\n",
       "</table>\n",
       "<p>30000 rows × 9 columns</p>\n",
       "</div>"
      ],
      "text/plain": [
       "       Limit_Bal    Education Marriage  Age   Pay_0  Bill_Amt1  Pay_Amt1  \\\n",
       "0          20000   University  married   24  Delay2       3913         0   \n",
       "1         120000   University   single   26  ontime       2682         0   \n",
       "2          90000   University   single   34  Delay0      29239      1518   \n",
       "3          50000   University  married   37  Delay0      46990      2000   \n",
       "4          50000   University  married   57  ontime       8617      2000   \n",
       "...          ...          ...      ...  ...     ...        ...       ...   \n",
       "29995     220000  High school  married   39  Delay0     188948      8500   \n",
       "29996     150000  High school   single   43  ontime       1683      1837   \n",
       "29997      30000   University   single   37  Delay4       3565         0   \n",
       "29998      80000  High school  married   41  Delay1      -1645     85900   \n",
       "29999      50000   University  married   46  Delay0      47929      2078   \n",
       "\n",
       "      Payment    Card  \n",
       "0      Missed  Normal  \n",
       "1      Missed  Normal  \n",
       "2        Paid  Normal  \n",
       "3        Paid  Normal  \n",
       "4        Paid    Gold  \n",
       "...       ...     ...  \n",
       "29995    Paid    Gold  \n",
       "29996    Paid    Gold  \n",
       "29997  Missed    Gold  \n",
       "29998  Missed    Gold  \n",
       "29999  Missed    Gold  \n",
       "\n",
       "[30000 rows x 9 columns]"
      ]
     },
     "execution_count": 2,
     "metadata": {},
     "output_type": "execute_result"
    }
   ],
   "source": [
    "import pandas as pd\n",
    "df = pd.read_csv(\"creditCardDefaultReduced.csv\")\n",
    "df"
   ]
  },
  {
   "cell_type": "markdown",
   "id": "5dcf9bf0-1119-4242-a042-370fbae72ad7",
   "metadata": {},
   "source": [
    "### Outcome Variable\n",
    "Next, create your `outcome` variable:"
   ]
  },
  {
   "cell_type": "code",
   "execution_count": 3,
   "id": "7814c9a4-bc9d-4489-90f6-8ad685dcc149",
   "metadata": {},
   "outputs": [],
   "source": [
    "outcome = df[\"Payment\"]"
   ]
  },
  {
   "cell_type": "markdown",
   "id": "9a300b91-320b-4f19-a9f2-37f7e18e337d",
   "metadata": {},
   "source": [
    "### Features Variable\n",
    "For the `features` variable, first save the numeric features:"
   ]
  },
  {
   "cell_type": "code",
   "execution_count": 4,
   "id": "c6ca4b1f-b05a-4e54-be9b-3442951f7acd",
   "metadata": {},
   "outputs": [],
   "source": [
    "numericFeatures = df[[\"Limit_Bal\", \"Bill_Amt1\", \"Pay_Amt1\", \"Age\"]]"
   ]
  },
  {
   "cell_type": "markdown",
   "id": "163e0826-4bd7-4a8b-8310-dac207b97320",
   "metadata": {},
   "source": [
    "Next, create dummy variables for your categorical variables:"
   ]
  },
  {
   "cell_type": "code",
   "execution_count": 5,
   "id": "4194ad6e-8b3b-42fa-805c-d09b6eb9470a",
   "metadata": {},
   "outputs": [],
   "source": [
    "dummies = pd.get_dummies(df[[\"Marriage\", \"Card\", \"Pay_0\"]], drop_first = True)"
   ]
  },
  {
   "cell_type": "markdown",
   "id": "51f6256a-9316-4349-9b73-fd6bf7ed106a",
   "metadata": {},
   "source": [
    "Now combine the numeric features and dummy variables:"
   ]
  },
  {
   "cell_type": "code",
   "execution_count": 6,
   "id": "fa886e97-a08c-4600-a464-458f55d5e438",
   "metadata": {},
   "outputs": [],
   "source": [
    "features = pd.concat([numericFeatures, dummies], axis = 1)"
   ]
  },
  {
   "cell_type": "markdown",
   "id": "b6fcb0fa-010c-4833-9c5e-9170e317961a",
   "metadata": {},
   "source": [
    "### Partition the Data\n",
    "\n",
    "Let's partition the data into training and test data sets:"
   ]
  },
  {
   "cell_type": "code",
   "execution_count": 7,
   "id": "46cea9ba-6f8a-4a74-8e2d-2c8d3409a958",
   "metadata": {},
   "outputs": [],
   "source": [
    "from sklearn.model_selection import train_test_split\n",
    "featuresTrain, featuresTest, outcomeTrain, outcomeTest = train_test_split(features, \n",
    "                                                                          outcome, \n",
    "                                                                          test_size = 0.33, \n",
    "                                                                          random_state = 42)"
   ]
  },
  {
   "cell_type": "markdown",
   "id": "1e1df7aa-c076-418b-8a61-68eee8b6e4fe",
   "metadata": {},
   "source": [
    "### Scale the Features\n",
    "\n",
    "Similar to the Support Vector Machine model, it's a good idea to scale your features with Neural Network models:"
   ]
  },
  {
   "cell_type": "code",
   "execution_count": 8,
   "id": "b1f96f58-8000-45b5-a5fd-2d398ecd8e86",
   "metadata": {},
   "outputs": [],
   "source": [
    "from sklearn.preprocessing import MinMaxScaler\n",
    "scaler = MinMaxScaler()\n",
    "featuresTrain_norm = scaler.fit_transform(featuresTrain) #you fit to the training features\n",
    "featuresTest_norm = scaler.transform(featuresTest)       #you only transform the test features"
   ]
  },
  {
   "cell_type": "markdown",
   "id": "47cfd480-837d-4ed4-9963-8bf44fa955aa",
   "metadata": {},
   "source": [
    "## Building a Neural Network Model\n",
    "\n",
    "Remember, there was a 4 step process for building our models last class:\n",
    "1. Set-up the model\n",
    "2. Fit the training data to the model\n",
    "3. Predict outcomes using the model\n",
    "4. Assess the fit of the model\n",
    "\n",
    "Refer to the code from last class to build a neural network model. Here are several pieces of information you'll need:\n",
    "\n",
    "* The package is `sklearn.neural_network`\n",
    "* The function we'll be using is `MLPClassifier()`\n",
    "    - Set the `random_state` to 42\n",
    "    - You'll also need to specify `hidden_layer_sizes = (30,30)` inside the `MLPClassifier()` function\n",
    "* Get the classification report for both the training and test predictions\n",
    "* Get the confusion matrix for the test predictions"
   ]
  },
  {
   "cell_type": "code",
   "execution_count": 9,
   "id": "982034b3-ac4e-4613-b514-52fb8829322e",
   "metadata": {},
   "outputs": [
    {
     "name": "stdout",
     "output_type": "stream",
     "text": [
      "              precision    recall  f1-score   support\n",
      "\n",
      "      Missed       0.69      0.35      0.47      4478\n",
      "        Paid       0.84      0.95      0.89     15622\n",
      "\n",
      "    accuracy                           0.82     20100\n",
      "   macro avg       0.76      0.65      0.68     20100\n",
      "weighted avg       0.80      0.82      0.80     20100\n",
      "\n"
     ]
    },
    {
     "data": {
      "text/plain": [
       "<sklearn.metrics._plot.confusion_matrix.ConfusionMatrixDisplay at 0x701d814b70d0>"
      ]
     },
     "execution_count": 9,
     "metadata": {},
     "output_type": "execute_result"
    },
    {
     "name": "stdout",
     "output_type": "stream",
     "text": [
      "              precision    recall  f1-score   support\n",
      "\n",
      "      Missed       0.66      0.34      0.45      2158\n",
      "        Paid       0.84      0.95      0.89      7742\n",
      "\n",
      "    accuracy                           0.82      9900\n",
      "   macro avg       0.75      0.64      0.67      9900\n",
      "weighted avg       0.80      0.82      0.79      9900\n",
      "\n"
     ]
    },
    {
     "data": {
      "image/png": "[encoded data removed]",
      "text/plain": [
       "<Figure size 640x480 with 2 Axes>"
      ]
     },
     "metadata": {},
     "output_type": "display_data"
    }
   ],
   "source": [
    "# 1. Set-up the model\n",
    "import sklearn.neural_network\n",
    "modelNN = sklearn.neural_network.MLPClassifier(random_state = 42, \n",
    "                                               hidden_layer_sizes = (30,30))\n",
    "\n",
    "# 2. Fit the model using the training data\n",
    "resultNN = modelNN.fit(featuresTrain_norm, outcomeTrain)\n",
    "\n",
    "# 3. Predict outcomes from the training and testing data\n",
    "predNNTrain = modelNN.predict(featuresTrain_norm)\n",
    "predNNTest = modelNN.predict(featuresTest_norm)\n",
    "\n",
    "# 4. Assess the fit\n",
    "print(sklearn.metrics.classification_report(outcomeTrain, predNNTrain))\n",
    "cmNNTest = sklearn.metrics.confusion_matrix(outcomeTest, predNNTest)\n",
    "sklearn.metrics.ConfusionMatrixDisplay(cmNNTest, display_labels = modelNN.classes_).plot()\n",
    "print(sklearn.metrics.classification_report(outcomeTest, predNNTest))"
   ]
  },
  {
   "cell_type": "markdown",
   "id": "db7113dc-1509-4e2d-80d6-59f196d9ca56",
   "metadata": {},
   "source": [
    "# Natural Language Processing\n",
    "\n",
    "Natural language processing (NLP) models are models designed to process human language for a variety of tasks, such as sentiment analysis, summarizing text, translating text, and -- as we've seen with ChatGPT -- answer questions.\n",
    "\n",
    "ChatGPT is a large language model that uses a version of neural network deep learning called Generative Pre-trained Transformers (GPT) that are trained on 175 billion parameters that allow the model to weigh the importance of different words relative to each other.\n",
    "\n",
    "## Sentiment Analysis\n",
    "\n",
    "To demonstrate how NLP models work (at a level that our laptops can handle), let's build a sentiment analysis model that can classify whether a film review is positive or negative.\n",
    "\n",
    "First, let's import our training dataset of 8,957 reviews from IMDb.com:"
   ]
  },
  {
   "cell_type": "code",
   "execution_count": 10,
   "id": "7acbadb4-e7b0-4d73-b928-98aaf4ef6008",
   "metadata": {},
   "outputs": [
    {
     "data": {
      "text/html": [
       "<div>\n",
       "<style scoped>\n",
       "    .dataframe tbody tr th:only-of-type {\n",
       "        vertical-align: middle;\n",
       "    }\n",
       "\n",
       "    .dataframe tbody tr th {\n",
       "        vertical-align: top;\n",
       "    }\n",
       "\n",
       "    .dataframe thead th {\n",
       "        text-align: right;\n",
       "    }\n",
       "</style>\n",
       "<table border=\"1\" class=\"dataframe\">\n",
       "  <thead>\n",
       "    <tr style=\"text-align: right;\">\n",
       "      <th></th>\n",
       "      <th>text</th>\n",
       "      <th>label</th>\n",
       "    </tr>\n",
       "  </thead>\n",
       "  <tbody>\n",
       "    <tr>\n",
       "      <th>0</th>\n",
       "      <td>1st watched 12/7/2002 - 3 out of 10(Dir-Steve ...</td>\n",
       "      <td>0</td>\n",
       "    </tr>\n",
       "    <tr>\n",
       "      <th>1</th>\n",
       "      <td>I saw this film on September 1st, 2005 in Indi...</td>\n",
       "      <td>1</td>\n",
       "    </tr>\n",
       "    <tr>\n",
       "      <th>2</th>\n",
       "      <td>I saw a screening of this movie last night. I ...</td>\n",
       "      <td>0</td>\n",
       "    </tr>\n",
       "    <tr>\n",
       "      <th>3</th>\n",
       "      <td>I'M BOUT IT(1997)&lt;br /&gt;&lt;br /&gt;Developed &amp; publi...</td>\n",
       "      <td>0</td>\n",
       "    </tr>\n",
       "    <tr>\n",
       "      <th>4</th>\n",
       "      <td>I had a recent spectator experience with The P...</td>\n",
       "      <td>0</td>\n",
       "    </tr>\n",
       "    <tr>\n",
       "      <th>...</th>\n",
       "      <td>...</td>\n",
       "      <td>...</td>\n",
       "    </tr>\n",
       "    <tr>\n",
       "      <th>8952</th>\n",
       "      <td>Best club scenes that i have seen in a long ti...</td>\n",
       "      <td>1</td>\n",
       "    </tr>\n",
       "    <tr>\n",
       "      <th>8953</th>\n",
       "      <td>Revenge is the theme of this Denzel Washington...</td>\n",
       "      <td>1</td>\n",
       "    </tr>\n",
       "    <tr>\n",
       "      <th>8954</th>\n",
       "      <td>My girlfriend has the habit of going to Blockb...</td>\n",
       "      <td>0</td>\n",
       "    </tr>\n",
       "    <tr>\n",
       "      <th>8955</th>\n",
       "      <td>\"Western Union\" is something of a forgotten cl...</td>\n",
       "      <td>1</td>\n",
       "    </tr>\n",
       "    <tr>\n",
       "      <th>8956</th>\n",
       "      <td>My wife and I watched this movie because we pl...</td>\n",
       "      <td>0</td>\n",
       "    </tr>\n",
       "  </tbody>\n",
       "</table>\n",
       "<p>8957 rows × 2 columns</p>\n",
       "</div>"
      ],
      "text/plain": [
       "                                                   text  label\n",
       "0     1st watched 12/7/2002 - 3 out of 10(Dir-Steve ...      0\n",
       "1     I saw this film on September 1st, 2005 in Indi...      1\n",
       "2     I saw a screening of this movie last night. I ...      0\n",
       "3     I'M BOUT IT(1997)<br /><br />Developed & publi...      0\n",
       "4     I had a recent spectator experience with The P...      0\n",
       "...                                                 ...    ...\n",
       "8952  Best club scenes that i have seen in a long ti...      1\n",
       "8953  Revenge is the theme of this Denzel Washington...      1\n",
       "8954  My girlfriend has the habit of going to Blockb...      0\n",
       "8955  \"Western Union\" is something of a forgotten cl...      1\n",
       "8956  My wife and I watched this movie because we pl...      0\n",
       "\n",
       "[8957 rows x 2 columns]"
      ]
     },
     "execution_count": 10,
     "metadata": {},
     "output_type": "execute_result"
    }
   ],
   "source": [
    "df2 = pd.read_excel(\"IMDB_reduced.xlsx\")\n",
    "df2"
   ]
  },
  {
   "cell_type": "markdown",
   "id": "dda73aec-d5a2-4e8d-b1a4-92e4702c7da7",
   "metadata": {},
   "source": [
    "For this model, our `outcome` variable is `label` (0 = negative review, 1 = positive review) and our `feature` is the review `text`. In the next code cell, create an `outcomeIMDB` and `featureIMDB` variable:"
   ]
  },
  {
   "cell_type": "code",
   "execution_count": 11,
   "id": "a99d7879-b75a-4e54-8d06-84a950b0cc3f",
   "metadata": {},
   "outputs": [],
   "source": [
    "outcomeIMDB = df2[\"label\"]\n",
    "featureIMDB = df2[\"text\"]"
   ]
  },
  {
   "cell_type": "markdown",
   "id": "a5202b19-54a1-4885-bb01-c431a9de86d4",
   "metadata": {},
   "source": [
    "Now partition the data into training and test data sets, using `random_state = 42` and a `test_size` of 33%:"
   ]
  },
  {
   "cell_type": "code",
   "execution_count": 12,
   "id": "abbd1aad-3ac9-414f-915c-baa4c6332b5f",
   "metadata": {},
   "outputs": [],
   "source": [
    "featureIMDBTrain, featureIMDBTest, outcomeIMDBTrain, outcomeIMDBTest = train_test_split(featureIMDB, \n",
    "                                                                          outcomeIMDB, \n",
    "                                                                          test_size = 0.33, \n",
    "                                                                          random_state = 42)"
   ]
  },
  {
   "cell_type": "markdown",
   "id": "3b894e35-1adb-4d23-b19a-243d708859ed",
   "metadata": {},
   "source": [
    "### Vectorizing the Text\n",
    "\n",
    "Now, we need to convert our review text into numeric data. To do this, we'll use the `TfidfVectorizer()`. Similar to the scaler we used above, we first need to initialize the vectorizer:"
   ]
  },
  {
   "cell_type": "code",
   "execution_count": 13,
   "id": "6be10218-8039-46dd-a9bc-260ffbf6eecf",
   "metadata": {},
   "outputs": [],
   "source": [
    "from sklearn.feature_extraction.text import TfidfVectorizer\n",
    "from nltk.tokenize.casual import casual_tokenize\n",
    "\n",
    "vectorizer = TfidfVectorizer(max_features = 500, tokenizer = casual_tokenize)"
   ]
  },
  {
   "cell_type": "markdown",
   "id": "7b6b3ed6-b5ed-49ef-8a0a-5f0def3a1503",
   "metadata": {},
   "source": [
    "The Term Frequency (TF) and Inverse Document Frequency (IDF) score weights each word in a review based on how many times it appears in that review and how unique or important it is across all reviews in the training data set. A higher number means it's more important.\n",
    "\n",
    "The tokenizer we are using (`casual_tokenize`) splits the review into individual words and can handle punctuation and special characters. We are setting `max_features` to only tokenize the top 500 most important words or characters. \n",
    "\n",
    "Next, we transform our training and test features using the vectorizer, again similar to the scaler we used above:"
   ]
  },
  {
   "cell_type": "code",
   "execution_count": 14,
   "id": "f482a53f-f003-40fa-97ad-aaed2d5251ba",
   "metadata": {},
   "outputs": [
    {
     "name": "stderr",
     "output_type": "stream",
     "text": [
      "/opt/tljh/user/lib/python3.10/site-packages/sklearn/feature_extraction/text.py:521: UserWarning: The parameter 'token_pattern' will not be used since 'tokenizer' is not None'\n",
      "  warnings.warn(\n"
     ]
    }
   ],
   "source": [
    "featureIMDBTrain_v = vectorizer.fit_transform(featureIMDBTrain)\n",
    "featureIMDBTest_v = vectorizer.transform(featureIMDBTest)"
   ]
  },
  {
   "cell_type": "markdown",
   "id": "c97d130f-85f6-442f-a7e6-472746ea674f",
   "metadata": {},
   "source": [
    "### Building the Model\n",
    "\n",
    "Now we can build a neural network model using these vectorized features. Copy/paste your neural network code from above and replace the features and outcome variables as needed. Also use the following settings:\n",
    "\n",
    "* Set the `random_state` to 42\n",
    "* Use (10,10,10) for the `hidden_layer_sizes`\n",
    "* Name your model `modReview`\n",
    "\n",
    "Be sure to print out the classification reports and the confusion matrix for the test data."
   ]
  },
  {
   "cell_type": "code",
   "execution_count": 15,
   "id": "ab817d86-f846-4371-8a0f-1a34e23e2ac7",
   "metadata": {},
   "outputs": [
    {
     "name": "stdout",
     "output_type": "stream",
     "text": [
      "              precision    recall  f1-score   support\n",
      "\n",
      "           0       0.89      0.85      0.87      2994\n",
      "           1       0.85      0.89      0.87      3007\n",
      "\n",
      "    accuracy                           0.87      6001\n",
      "   macro avg       0.87      0.87      0.87      6001\n",
      "weighted avg       0.87      0.87      0.87      6001\n",
      "\n"
     ]
    },
    {
     "data": {
      "text/plain": [
       "<sklearn.metrics._plot.confusion_matrix.ConfusionMatrixDisplay at 0x701d7bd46b00>"
      ]
     },
     "execution_count": 15,
     "metadata": {},
     "output_type": "execute_result"
    },
    {
     "name": "stdout",
     "output_type": "stream",
     "text": [
      "              precision    recall  f1-score   support\n",
      "\n",
      "           0       0.85      0.80      0.82      1461\n",
      "           1       0.81      0.86      0.84      1495\n",
      "\n",
      "    accuracy                           0.83      2956\n",
      "   macro avg       0.83      0.83      0.83      2956\n",
      "weighted avg       0.83      0.83      0.83      2956\n",
      "\n"
     ]
    },
    {
     "data": {
      "image/png": "[encoded data removed]",
      "text/plain": [
       "<Figure size 640x480 with 2 Axes>"
      ]
     },
     "metadata": {},
     "output_type": "display_data"
    }
   ],
   "source": [
    "# 1. Set-up the model\n",
    "modReview = sklearn.neural_network.MLPClassifier(random_state = 42, \n",
    "                                               hidden_layer_sizes = (10,10,10))\n",
    "\n",
    "# 2. Fit the model using the training data\n",
    "resultReview = modReview.fit(featureIMDBTrain_v, outcomeIMDBTrain)\n",
    "\n",
    "# 3. Predict outcomes from the training and testing data\n",
    "predReviewTrain = modReview.predict(featureIMDBTrain_v)\n",
    "predReviewTest = modReview.predict(featureIMDBTest_v)\n",
    "\n",
    "# 4. Assess the fit\n",
    "print(sklearn.metrics.classification_report(outcomeIMDBTrain, predReviewTrain))\n",
    "cmReviewTest = sklearn.metrics.confusion_matrix(outcomeIMDBTest, predReviewTest)\n",
    "sklearn.metrics.ConfusionMatrixDisplay(cmReviewTest, display_labels = modReview.classes_).plot()\n",
    "print(sklearn.metrics.classification_report(outcomeIMDBTest, predReviewTest))"
   ]
  },
  {
   "cell_type": "markdown",
   "id": "7e3ddde8-2ca2-4308-b099-40a98c9d24b4",
   "metadata": {},
   "source": [
    "### Using the Model\n",
    "\n",
    "Now that we've built our model, we can use it to classify new film reviews:"
   ]
  },
  {
   "cell_type": "code",
   "execution_count": 16,
   "id": "628c2f95-4f25-44a5-9160-21b0e5dce01d",
   "metadata": {},
   "outputs": [
    {
     "data": {
      "text/plain": [
       "array([1])"
      ]
     },
     "execution_count": 16,
     "metadata": {},
     "output_type": "execute_result"
    },
    {
     "data": {
      "text/plain": [
       "array([[0.11057952, 0.88942048]])"
      ]
     },
     "execution_count": 16,
     "metadata": {},
     "output_type": "execute_result"
    }
   ],
   "source": [
    "# New film review\n",
    "new_review = [\"I really enjoyed the film. It kept me entertained the whole time.\"]\n",
    "\n",
    "# Tokenize and vectorize the new review using the same vectorizer\n",
    "new_review_v = vectorizer.transform(new_review)\n",
    "\n",
    "# Predict sentiment on the new review\n",
    "modReview.predict(new_review_v)          # predicts 0 or 1\n",
    "modReview.predict_proba(new_review_v)    # provides probability of 0 or 1"
   ]
  }
 ],
 "metadata": {
  "kernelspec": {
   "display_name": "Python 3 (ipykernel)",
   "language": "python",
   "name": "python3"
  },
  "language_info": {
   "codemirror_mode": {
    "name": "ipython",
    "version": 3
   },
   "file_extension": ".py",
   "mimetype": "text/x-python",
   "name": "python",
   "nbconvert_exporter": "python",
   "pygments_lexer": "ipython3",
   "version": "3.10.10"
  }
 },
 "nbformat": 4,
 "nbformat_minor": 5
}
