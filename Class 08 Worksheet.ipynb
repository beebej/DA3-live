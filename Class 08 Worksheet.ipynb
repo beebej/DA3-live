{
 "cells": [
  {
   "cell_type": "code",
   "execution_count": null,
   "id": "a1eff5df-e219-4dc8-8a22-40ce22763213",
   "metadata": {
    "slideshow": {
     "slide_type": "slide"
    },
    "tags": []
   },
   "outputs": [],
   "source": [
    "#Run the following code to print multiple outputs from a cell\n",
    "get_ipython().ast_node_interactivity = 'all'"
   ]
  },
  {
   "cell_type": "markdown",
   "id": "95f0fa0c-294a-483a-b6e5-f82f1ba0e822",
   "metadata": {},
   "source": [
    "# Class 08 Worksheet\n",
    "\n",
    "## Importing & Profiling the Data\n",
    "Import the file, \"creditCardDefaultReduced.csv\", and save it in a variable called `df`. Then, do some initial data profiling of the data. "
   ]
  },
  {
   "cell_type": "code",
   "execution_count": null,
   "id": "9a3f3516-7be8-4b4e-bf29-f4804f38465b",
   "metadata": {},
   "outputs": [],
   "source": [
    "import pandas as pd\n",
    "df = pd.read_csv(\"creditCardDefaultReduced.csv\")\n",
    "df"
   ]
  },
  {
   "cell_type": "code",
   "execution_count": null,
   "id": "dbac169b-3b60-409d-9a82-920667083c70",
   "metadata": {},
   "outputs": [],
   "source": [
    "df.dtypes\n",
    "df.isna().sum()"
   ]
  },
  {
   "cell_type": "code",
   "execution_count": null,
   "id": "559fcdc6-3844-46d4-8d0a-3a3afb3a0ab3",
   "metadata": {},
   "outputs": [],
   "source": [
    "df.describe()"
   ]
  },
  {
   "cell_type": "code",
   "execution_count": null,
   "id": "e74efeaf-1a55-4f4a-ac49-63648b0df2dc",
   "metadata": {},
   "outputs": [],
   "source": [
    "pd.plotting.scatter_matrix(df)"
   ]
  },
  {
   "cell_type": "code",
   "execution_count": null,
   "id": "e0d9781b-a604-4414-9033-22c93c8986c2",
   "metadata": {},
   "outputs": [],
   "source": [
    "df[\"Payment\"].value_counts(normalize = True)\n",
    "df[\"Education\"].value_counts(normalize = True)\n",
    "df[\"Marriage\"].value_counts(normalize = True)"
   ]
  },
  {
   "cell_type": "markdown",
   "id": "7634f599-5921-42db-9f49-ab18bcc97808",
   "metadata": {},
   "source": [
    "We want to explain the \"Payment\" column, so let's try to make a histogram to see if it's normally distributed:"
   ]
  },
  {
   "cell_type": "code",
   "execution_count": null,
   "id": "13e1cd12-eb2b-400e-9fcb-8f6d852500de",
   "metadata": {},
   "outputs": [],
   "source": [
    "df[\"Payment\"].hist()"
   ]
  },
  {
   "cell_type": "markdown",
   "id": "90022f75-eed5-4ffe-a3bc-e7792ee3ee96",
   "metadata": {},
   "source": [
    "This is not continuous data, so we'll use a classification model to predict whether someone will make or miss their payment."
   ]
  },
  {
   "cell_type": "markdown",
   "id": "f22e0c0f-dbc3-4774-9034-4ab0aeea4a80",
   "metadata": {},
   "source": [
    "## Random Number Seeding\n",
    "\n",
    "Random numbers work from seed values. Typically these seed values come from something like the millisecond of the time that you request a random number. Run the following code and see if you get the same number as me: "
   ]
  },
  {
   "cell_type": "code",
   "execution_count": null,
   "id": "5f2a1955-4d60-4bc6-a57c-20bb46192b8a",
   "metadata": {},
   "outputs": [],
   "source": [
    "import random\n",
    "random.randrange(100)\n",
    "random.randrange(100) # just to show it's not the same number even for you"
   ]
  },
  {
   "cell_type": "markdown",
   "id": "42d067a1-407e-4aed-b1dd-1fb6ade0b81e",
   "metadata": {},
   "source": [
    "**You didn't get the same results (I bet).**\n",
    "\n",
    "Now, run the following code to set the seed and compare your numbers to mine:"
   ]
  },
  {
   "cell_type": "code",
   "execution_count": null,
   "id": "3f98b32f-1b4a-4179-859d-08108a7417dd",
   "metadata": {},
   "outputs": [],
   "source": [
    "random.seed(28)\n",
    "random.randrange(100)\n",
    "random.randrange(100)"
   ]
  },
  {
   "cell_type": "markdown",
   "id": "4fff13e6-69a5-4b9c-bbb6-86ce262adade",
   "metadata": {},
   "source": [
    "**You got exactly the same results (I hope).**\n",
    "\n",
    "What good is this if numbers aren't random? We do this in class so that we get, for example, the same \"random\" splits for test/training data. Every time you run your code, you'll get the same split. This helps so that (a) our results look similar in class and (b) you can tell that the results you get from changes you make to a model are because of the change you make, not just a different set of random numbers.\n",
    "\n",
    "We will add the parameter `random_state` to our commands below to set the seed. *You can use anything as the seed for the initial random number seed...I've chosen 42 below because 42 is my favorite number.*"
   ]
  },
  {
   "cell_type": "markdown",
   "id": "32cb8cab-c18a-4dc4-b0ed-107af865e5f9",
   "metadata": {},
   "source": [
    "## Outcome and Features\n",
    "\n",
    "We need to create two inputs for machine learning models:\n",
    "* Outcome: A single column of data that the model will try to explain\n",
    "* Features: One or more columns of data that explain the outcome\n",
    "\n",
    "We'll experiment with different models today, but all require an outcome and set of features.\n",
    "\n",
    "### Outcome\n",
    "\n",
    "Outcome is relatively simple since it's a single column:"
   ]
  },
  {
   "cell_type": "code",
   "execution_count": null,
   "id": "7814c9a4-bc9d-4489-90f6-8ad685dcc149",
   "metadata": {},
   "outputs": [],
   "source": [
    "outcome = df[\"Payment\"]\n",
    "outcome"
   ]
  },
  {
   "cell_type": "markdown",
   "id": "9a300b91-320b-4f19-a9f2-37f7e18e337d",
   "metadata": {},
   "source": [
    "### Features\n",
    "\n",
    "We'll handle 2 types of data differently -- numeric and factors (categorical variables).\n",
    "\n",
    "#### Numeric Features\n",
    "First, the data has numeric variables like `Limit_Bal` and `Age`:"
   ]
  },
  {
   "cell_type": "code",
   "execution_count": null,
   "id": "c6ca4b1f-b05a-4e54-be9b-3442951f7acd",
   "metadata": {},
   "outputs": [],
   "source": [
    "numericFeatures = df[[\"Limit_Bal\", \"Bill_Amt1\", \"Pay_Amt1\", \"Age\"]]\n",
    "numericFeatures"
   ]
  },
  {
   "cell_type": "markdown",
   "id": "163e0826-4bd7-4a8b-8310-dac207b97320",
   "metadata": {},
   "source": [
    "#### Categorical Features\n",
    "Second, the data has categorical columns.\n",
    "* Despite all the discussion about new data (image, audio, video, etc.), models only work with numbers. Data needs to be numeric\n",
    "* But we really, really, **really** want to use non-numeric data\n",
    "* Some examples:\n",
    "  - Colors? Red, green, blue\n",
    "  - Day of the week? Sunday, Monday, Tuesday, ..., Saturday\n",
    "  - School? Boston College, Notre Dame, Boston University\n",
    "  - ...and many others\n",
    "* What do we do?\n",
    "\n",
    "Some data, like `Marriage` is a set of discrete values:"
   ]
  },
  {
   "cell_type": "code",
   "execution_count": null,
   "id": "90555b93-1956-4db9-a11c-0c286bf25a47",
   "metadata": {},
   "outputs": [],
   "source": [
    "df[\"Marriage\"].value_counts()"
   ]
  },
  {
   "cell_type": "markdown",
   "id": "a8e61dda-609a-4bc9-a90d-f360f52e6dab",
   "metadata": {},
   "source": [
    "`get_dummies` converts this data to multiple columns of true (1) and false (0) values:"
   ]
  },
  {
   "cell_type": "code",
   "execution_count": null,
   "id": "4194ad6e-8b3b-42fa-805c-d09b6eb9470a",
   "metadata": {},
   "outputs": [],
   "source": [
    "dummiesMarriage = pd.get_dummies(df[\"Marriage\"], prefix = \"Marriage\", drop_first = True)\n",
    "dummiesMarriage"
   ]
  },
  {
   "cell_type": "markdown",
   "id": "85392634-cb57-4c35-b1b8-bf7a77d6bd66",
   "metadata": {},
   "source": [
    "Now you try...create dummy variables for the `Card` and `Pay_0` variables:"
   ]
  },
  {
   "cell_type": "code",
   "execution_count": null,
   "id": "dd5f41e9-5a8e-45e8-bda2-a817ff013609",
   "metadata": {},
   "outputs": [],
   "source": []
  },
  {
   "cell_type": "markdown",
   "id": "51f6256a-9316-4349-9b73-fd6bf7ed106a",
   "metadata": {},
   "source": [
    "Now we need to combine all our features into a single variable using the `concat` command:"
   ]
  },
  {
   "cell_type": "code",
   "execution_count": null,
   "id": "fa886e97-a08c-4600-a464-458f55d5e438",
   "metadata": {},
   "outputs": [],
   "source": [
    "features = pd.concat([numericFeatures, dummiesMarriage, dummiesPay_0, dummiesCard], axis = 1)\n",
    "features"
   ]
  },
  {
   "cell_type": "markdown",
   "id": "05dbf1d9-b821-4401-b941-163aebaf5eb7",
   "metadata": {},
   "source": [
    "*The `axis = 1` parameter tells the `concat` function to combine by columns instead of by rows.*\n",
    "\n",
    "Now, we have 2 variables:\n",
    "* `outcome` contains the single column of data that we will try to explain\n",
    "* `features` contains multiple columns of data that we believe explains the `outcome` variable"
   ]
  },
  {
   "cell_type": "markdown",
   "id": "b6fcb0fa-010c-4833-9c5e-9170e317961a",
   "metadata": {},
   "source": [
    "## Partitioning the Data\n",
    "\n",
    "When we have sufficient data, we want to use only part of the data to train the model. By keeping part of the data as test data, we can better evaluate how well the model works.\n",
    "\n",
    "The `sklearn.model_selection.train_test_split` command randomly splits the data into subsets. It is an unusual function that returns four values. The `test_size` parameter indicates the portion to save for testing."
   ]
  },
  {
   "cell_type": "code",
   "execution_count": null,
   "id": "46cea9ba-6f8a-4a74-8e2d-2c8d3409a958",
   "metadata": {},
   "outputs": [],
   "source": [
    "from sklearn.model_selection import train_test_split\n",
    "featuresTrain, featuresTest, outcomeTrain, outcomeTest = train_test_split(features, outcome, test_size = 0.33, random_state = 42)\n",
    "featuresTrain.shape\n",
    "featuresTest.shape\n",
    "outcomeTrain.shape\n",
    "outcomeTest.shape"
   ]
  },
  {
   "attachments": {
    "11f8e071-8b01-478d-8ee5-cfe706cd1f9e.png": {
     "image/png": "[encoded data removed]"
    }
   },
   "cell_type": "markdown",
   "id": "4c0a3816-818d-4699-9830-82c1c1500122",
   "metadata": {},
   "source": [
    "## Building a Decision Tree\n",
    "\n",
    "![image.png](attachment:11f8e071-8b01-478d-8ee5-cfe706cd1f9e.png)\n",
    "\n",
    "* A ﬂowchart-like structure\n",
    "* Each internal node represents a test on an attribute\n",
    "* Each branch represents the outcome of the test\n",
    "* Each leaf node represents a class label\n",
    "* The paths from root to leaf represent classiﬁcation rules.\n",
    "\n",
    "Pros and cons?\n",
    "* Simple\n",
    "* White-box\n",
    "* Sensitive to data ('high variance')\n",
    "* May require many levels\n",
    "* Generally low accuracy\n",
    "\n",
    "Let's build the model. There are generally 4 steps:\n",
    "1. Set-up the model:"
   ]
  },
  {
   "cell_type": "code",
   "execution_count": null,
   "id": "41e95b33-2550-4afb-b619-daf3df34fe7a",
   "metadata": {},
   "outputs": [],
   "source": [
    "import sklearn.tree\n",
    "modelTree = sklearn.tree.DecisionTreeClassifier(random_state = 42)"
   ]
  },
  {
   "cell_type": "markdown",
   "id": "24eece55-07f9-40ef-8f01-39079761abeb",
   "metadata": {},
   "source": [
    "2. Fit the tree using the training data:"
   ]
  },
  {
   "cell_type": "code",
   "execution_count": null,
   "id": "3bb8ab3b-137e-4e05-943f-817860dc9bb6",
   "metadata": {},
   "outputs": [],
   "source": [
    "resultTree = modelTree.fit(featuresTrain, outcomeTrain)\n",
    "sklearn.tree.plot_tree(resultTree, feature_names = list(features), filled = True,\\\n",
    "                       class_names = modelTree.classes_, max_depth = 2)"
   ]
  },
  {
   "cell_type": "markdown",
   "id": "6948517b-fc37-4e65-8f02-3b0becbf379d",
   "metadata": {},
   "source": [
    "To actually see the tree, you can run this code:"
   ]
  },
  {
   "cell_type": "code",
   "execution_count": null,
   "id": "97236a3d-6e37-4369-8650-ea0777c033df",
   "metadata": {},
   "outputs": [],
   "source": [
    "import matplotlib.pyplot as plt\n",
    "fig = plt.figure(figsize=(25,20))\n",
    "_ = sklearn.tree.plot_tree(resultTree, feature_names = list(features), filled = True,\\\n",
    "                       class_names = modelTree.classes_, max_depth = 2)\n",
    "\n",
    "# To save the tree as a png file:\n",
    "# fig.savefig(\"decision_tree.png\")"
   ]
  },
  {
   "cell_type": "markdown",
   "id": "fd1ba23f-a983-4f96-b4db-aabcbbc1976a",
   "metadata": {},
   "source": [
    "3. Use the fitted model to predict outcomes:"
   ]
  },
  {
   "cell_type": "code",
   "execution_count": null,
   "id": "88051d5f-acc9-44cf-9e86-b922b0cd5ee2",
   "metadata": {},
   "outputs": [],
   "source": [
    "predTreeTrain = modelTree.predict(featuresTrain)\n",
    "predTreeTrain"
   ]
  },
  {
   "cell_type": "markdown",
   "id": "140abd3e-0bb1-48e7-a4cf-3243d1870f4b",
   "metadata": {},
   "source": [
    "4. Assess the fit:"
   ]
  },
  {
   "cell_type": "code",
   "execution_count": null,
   "id": "c76d7ece-d783-491b-aadd-a4d03616c003",
   "metadata": {},
   "outputs": [],
   "source": [
    "sklearn.metrics.r2_score(outcomeTrain, featuresTrain) # this is wrong"
   ]
  },
  {
   "cell_type": "markdown",
   "id": "f7a0c3d2-9b9a-4a4c-a70c-63164b370fd5",
   "metadata": {},
   "source": [
    "What happened?\n",
    "\n",
    "Metrics like $R^2$, mean squared error, mean absolute error, etc., make sense for regression, but not classification.\n",
    "\n",
    "How can we tell if a model is good or bad?\n",
    "* Depends on the reference\n",
    "  - \"Better or worse\" more than \"good or bad\"\n",
    "* Depends on the dependent variable\n",
    "* Depends on the kind of model\n",
    "* Depends on the goal\n",
    "\n",
    "What outcomes are we trying to predict?"
   ]
  },
  {
   "cell_type": "code",
   "execution_count": null,
   "id": "de740562-23d0-4d3b-87b5-fd4614659da4",
   "metadata": {},
   "outputs": [],
   "source": [
    "pd.value_counts(outcomeTrain)"
   ]
  },
  {
   "cell_type": "markdown",
   "id": "8528baa2-65fa-41ce-a5de-5147584a404f",
   "metadata": {},
   "source": [
    "What did the model predict?"
   ]
  },
  {
   "cell_type": "code",
   "execution_count": null,
   "id": "5660b588-154f-439b-8403-604d74c2bdc7",
   "metadata": {},
   "outputs": [],
   "source": [
    "pd.value_counts(predTreeTrain)"
   ]
  },
  {
   "cell_type": "markdown",
   "id": "5e2afd18-7f64-481b-af13-a57f9daba880",
   "metadata": {},
   "source": [
    "So, we know the prediction isn't perfect. But what did it miss? How imperfect?"
   ]
  },
  {
   "cell_type": "markdown",
   "id": "06f36309-9a28-4146-a915-99eef291edc6",
   "metadata": {},
   "source": [
    "### Confusion Matrix\n",
    "\n",
    "Check the confusion matrix to assess the model's goodness of fit:"
   ]
  },
  {
   "cell_type": "code",
   "execution_count": null,
   "id": "4a8c52bd-0992-48ac-b518-f2fd7cb51685",
   "metadata": {},
   "outputs": [],
   "source": [
    "sklearn.metrics.accuracy_score(outcomeTrain, predTreeTrain)\n",
    "cmTreeTrain = sklearn.metrics.confusion_matrix(outcomeTrain, predTreeTrain)\n",
    "sklearn.metrics.ConfusionMatrixDisplay(cmTreeTrain, display_labels = modelTree.classes_).plot()"
   ]
  },
  {
   "cell_type": "markdown",
   "id": "baf634ca-cff6-46c8-b9a8-7bfcce718c96",
   "metadata": {},
   "source": [
    "We can quickly look at many metrics with the `classification_report`:"
   ]
  },
  {
   "cell_type": "code",
   "execution_count": null,
   "id": "3f12c7d8-c730-437c-a44a-3df87bd5d501",
   "metadata": {},
   "outputs": [],
   "source": [
    "print(sklearn.metrics.classification_report(outcomeTrain, predTreeTrain))"
   ]
  },
  {
   "cell_type": "markdown",
   "id": "0e86cea6-d3d6-40fe-a6dc-1a56185ac9c3",
   "metadata": {},
   "source": [
    "* Out of all the people that the model predicted Missed, 99% actually Missed\n",
    "* Out of all the people that actually Missed, the model predicted 100% of them\n",
    "* Out of all the people that the model predicted Paid, 100% actually Paid\n",
    "* Out of all the people that actually Paid, the model predicted 100% of them\n",
    "* Support tells us how many of each case are in the data"
   ]
  },
  {
   "cell_type": "markdown",
   "id": "ee85d314-7546-47d7-b3b5-2c2a445fc19f",
   "metadata": {},
   "source": [
    "It's no surprise that the model does well on the training data that was used to build it. \n",
    "\n",
    "The real \"test\" (forgive the pun) is to see how the model fits the test data to assess overfitting:"
   ]
  },
  {
   "cell_type": "code",
   "execution_count": null,
   "id": "fde1d826-ea77-4986-9c4c-bf26620d3044",
   "metadata": {},
   "outputs": [],
   "source": [
    "# First create the predictions on the test data\n",
    "predTreeTest = modelTree.predict(featuresTest)\n",
    "\n",
    "# Then assess the fit\n",
    "cmTreeTest = sklearn.metrics.confusion_matrix(outcomeTest, predTreeTest)\n",
    "sklearn.metrics.ConfusionMatrixDisplay(cmTreeTest, display_labels = modelTree.classes_).plot()\n",
    "print(sklearn.metrics.classification_report(outcomeTest, predTreeTest))"
   ]
  },
  {
   "cell_type": "markdown",
   "id": "9ac171a7-076d-406f-8d67-8a22ea6a540e",
   "metadata": {},
   "source": [
    "How did the model do at predicting new data?\n",
    "* Bad overfitting\n",
    "* Decision trees, while nice to look at, are terrible about overfit"
   ]
  },
  {
   "cell_type": "markdown",
   "id": "5b29accf-a6c0-4119-b8d7-164020d12f5e",
   "metadata": {},
   "source": [
    "## Random Forests\n",
    "\n",
    "The steps are the same for random forests as they are for decision trees, with the exception that you use `sklearn.ensemble.RandomForestClassifier` to build the model:"
   ]
  },
  {
   "cell_type": "code",
   "execution_count": null,
   "id": "c1af8208-73f6-4398-a69f-77d34afd66f3",
   "metadata": {},
   "outputs": [],
   "source": [
    "# 1. Set-up the model\n",
    "import sklearn.ensemble\n",
    "modelForest = sklearn.ensemble.RandomForestClassifier(random_state = 42)\n",
    "\n",
    "# 2. Fit the model using the training data\n",
    "resultForest = modelForest.fit(featuresTrain, outcomeTrain)\n",
    "\n",
    "# 3. Predict outcomes from the training and testing data\n",
    "predForestTrain = modelForest.predict(featuresTrain)\n",
    "predForestTest = modelForest.predict(featuresTest)\n",
    "\n",
    "# 4. Assess the fit\n",
    "print(sklearn.metrics.classification_report(outcomeTrain, predForestTrain))\n",
    "print(sklearn.metrics.classification_report(outcomeTest, predForestTest))"
   ]
  },
  {
   "cell_type": "markdown",
   "id": "72e128df-6942-43ae-8f7f-48255c2a887f",
   "metadata": {},
   "source": [
    "## Neural Network\n",
    "\n",
    "1. Set-up the model using `sklearn.neural_network.MLPClassifier`:"
   ]
  },
  {
   "cell_type": "code",
   "execution_count": null,
   "id": "fc73697e-e8cb-4be0-8cdd-2c6307749ea3",
   "metadata": {},
   "outputs": [],
   "source": [
    "import sklearn.neural_network\n",
    "modelNeural = sklearn.neural_network.MLPClassifier(hidden_layer_sizes = (50, 50), random_state = 42)"
   ]
  },
  {
   "cell_type": "markdown",
   "id": "05bdae1b-78e9-41bd-83cb-832a67ca0d74",
   "metadata": {},
   "source": [
    "Steps 2-4 are exactly the same as for Decision Trees and Random Forests. Refer to the code above to fit the model, make predictions, and assess the fit (for both training and test data sets):"
   ]
  },
  {
   "cell_type": "code",
   "execution_count": null,
   "id": "db26f229-6ebf-40b3-9a00-fe0c0188d0db",
   "metadata": {},
   "outputs": [],
   "source": []
  },
  {
   "cell_type": "markdown",
   "id": "2ef91814-fb24-4cbc-be14-b2366ab3e72e",
   "metadata": {},
   "source": [
    "## Try Another...\n",
    "\n",
    "Instead of repeating the class exercise, use the 3 models we covered in class to try to classify the Species of flower in the data set, \"Iris.csv\":"
   ]
  },
  {
   "cell_type": "code",
   "execution_count": null,
   "id": "f88b1e6d-e986-4564-8ec5-6d2a92c135bf",
   "metadata": {},
   "outputs": [],
   "source": []
  }
 ],
 "metadata": {
  "kernelspec": {
   "display_name": "Python 3 (ipykernel)",
   "language": "python",
   "name": "python3"
  },
  "language_info": {
   "codemirror_mode": {
    "name": "ipython",
    "version": 3
   },
   "file_extension": ".py",
   "mimetype": "text/x-python",
   "name": "python",
   "nbconvert_exporter": "python",
   "pygments_lexer": "ipython3",
   "version": "3.10.10"
  }
 },
 "nbformat": 4,
 "nbformat_minor": 5
}
