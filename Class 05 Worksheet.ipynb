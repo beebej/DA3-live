{
 "cells": [
  {
   "cell_type": "code",
   "execution_count": null,
   "id": "4b70e60d-48d5-4df2-b59a-b42db90db1ef",
   "metadata": {
    "slideshow": {
     "slide_type": "slide"
    },
    "tags": []
   },
   "outputs": [],
   "source": [
    "#Run the following code to print multiple outputs from a cell\n",
    "get_ipython().ast_node_interactivity = 'all'"
   ]
  },
  {
   "cell_type": "markdown",
   "id": "7b76d04e-14a3-4ec0-bbcc-3a932ada3e29",
   "metadata": {},
   "source": [
    "# Class 05 Worksheet\n",
    "\n",
    "## Importing & Profiling the Data\n",
    "Import the file, \"StockData.csv\", and save it in a variable called `df`. Then, do some initial data profiling of the data based on what we covered the last 2 classes. "
   ]
  },
  {
   "cell_type": "code",
   "execution_count": null,
   "id": "eb9b728a-74be-4777-9614-a336e05461b1",
   "metadata": {},
   "outputs": [],
   "source": []
  },
  {
   "cell_type": "markdown",
   "id": "e9becfab-6bd3-4970-814d-3c00346c01c4",
   "metadata": {},
   "source": [
    "What are the data types?"
   ]
  },
  {
   "cell_type": "code",
   "execution_count": null,
   "id": "3cfb339f-67bf-47d9-8612-f4fe85719c2b",
   "metadata": {},
   "outputs": [],
   "source": []
  },
  {
   "cell_type": "markdown",
   "id": "4f7c8809-d6fd-4136-bc16-ad36c19fa5f9",
   "metadata": {},
   "source": [
    "Are there missing values?"
   ]
  },
  {
   "cell_type": "code",
   "execution_count": null,
   "id": "2f50792a-7b2f-40b5-aa05-d0c7817a1a4c",
   "metadata": {},
   "outputs": [],
   "source": []
  },
  {
   "cell_type": "markdown",
   "id": "35ac492c-5643-4261-82a9-a7649159a4ad",
   "metadata": {},
   "source": [
    "What are the summary statistics for the quantitative variables? What can you say about the variables based on the summary?"
   ]
  },
  {
   "cell_type": "code",
   "execution_count": null,
   "id": "83ea1c45-4f00-4f5a-afaa-ae1a10ab8802",
   "metadata": {},
   "outputs": [],
   "source": []
  },
  {
   "cell_type": "markdown",
   "id": "e2fcb852-6ac3-41b8-b73e-c5b1c15bae15",
   "metadata": {},
   "source": [
    "Create histograms for \"stockShares\", \"stockPrice\", and \"temperature\". Try using the parameter `bins=` to set the number of bins for your histogram (e.g., `bins=30`, `bins=40`, etc.)."
   ]
  },
  {
   "cell_type": "code",
   "execution_count": null,
   "id": "2210f5c3-e522-4149-9093-a34189a4c86a",
   "metadata": {},
   "outputs": [],
   "source": [
    "# Histogram for stockShares:\n"
   ]
  },
  {
   "cell_type": "code",
   "execution_count": null,
   "id": "c53c4325-48d5-4f57-863a-67d57a4db6fc",
   "metadata": {},
   "outputs": [],
   "source": [
    "# Histogram for stockPrice:\n"
   ]
  },
  {
   "cell_type": "code",
   "execution_count": null,
   "id": "83f3b0cb-a4a9-4199-824b-5a976eb6aba3",
   "metadata": {},
   "outputs": [],
   "source": [
    "# Histogram for temperature:\n"
   ]
  },
  {
   "cell_type": "markdown",
   "id": "3ce0ad92-04f1-4064-81e0-ac892df551d2",
   "metadata": {},
   "source": [
    "Can you make any conclusions about these variables from the histograms?"
   ]
  },
  {
   "cell_type": "markdown",
   "id": "42c7c904-76ad-4e23-a22d-e532595df414",
   "metadata": {},
   "source": [
    "How many categories are there for \"ticker symbol\" and what are the categories? Do you know notice anything strange about this variable?"
   ]
  },
  {
   "cell_type": "code",
   "execution_count": null,
   "id": "67e3ab56-5145-4ebe-b6f9-8aac8ce5ed2f",
   "metadata": {},
   "outputs": [],
   "source": []
  },
  {
   "cell_type": "markdown",
   "id": "e503bb82-4c34-4cef-8f87-bb53a0a08420",
   "metadata": {},
   "source": [
    "## Feature Engineering\n",
    "\n",
    "### Renaming a Column\n",
    "\n",
    "That space in the column name \"ticker symbol\" is really going to get annoying. Let's change it:"
   ]
  },
  {
   "cell_type": "code",
   "execution_count": null,
   "id": "8314ceb7-c60b-44cf-8f22-f3b3c26811e5",
   "metadata": {},
   "outputs": [],
   "source": [
    "df.rename(columns = {\"ticker symbol\" : \"tickerSymbol\"})"
   ]
  },
  {
   "cell_type": "markdown",
   "id": "5df8156e-eae0-4e29-8c50-5b9b3509acdf",
   "metadata": {},
   "source": [
    "Quick python syntax side note: the command above includes a format that we've not seen before... `{\"ticker symbol\" : \"ticker_symbol\"}`. The braces (`{}`) define a *dictionary* in python, which associates one value with another. In this case, we are associating the old column name to the new column name.\n",
    "\n",
    "Now check the data types again:"
   ]
  },
  {
   "cell_type": "code",
   "execution_count": null,
   "id": "6242aadc-af3d-4495-9c7d-9d92a8388787",
   "metadata": {},
   "outputs": [],
   "source": [
    "df.dtypes"
   ]
  },
  {
   "cell_type": "markdown",
   "id": "3eae1e8a-e5a7-476b-9a8b-b09e42564e74",
   "metadata": {},
   "source": [
    "The column reverted back to the original name. Why?\n",
    "\n",
    "Re-run the `.rename()` command below, this time saving your results and check the data types to make sure the change took effect:"
   ]
  },
  {
   "cell_type": "code",
   "execution_count": null,
   "id": "9e1e5565-0a17-4873-aad0-f6bc852bf1d6",
   "metadata": {},
   "outputs": [],
   "source": []
  },
  {
   "cell_type": "markdown",
   "id": "38f1ede6-9bc4-4e9c-a38d-640581959f6a",
   "metadata": {},
   "source": [
    "### Adding new columns\n",
    "\n",
    "Remember how we created variables in class 01? We used an assignment statement, like the following:"
   ]
  },
  {
   "cell_type": "code",
   "execution_count": null,
   "id": "73ce6240-28e8-4371-8f0b-8935b7af8c70",
   "metadata": {},
   "outputs": [],
   "source": [
    "x = 42"
   ]
  },
  {
   "cell_type": "markdown",
   "id": "d7b88905-4049-4bd0-85a9-9e4536923b9c",
   "metadata": {},
   "source": [
    "You do the same thing to add a new column to your DataFrame...the variable in this case being the name of the new column:"
   ]
  },
  {
   "cell_type": "code",
   "execution_count": null,
   "id": "e961d7eb-9752-46d6-9b01-4023ad48c63d",
   "metadata": {},
   "outputs": [],
   "source": [
    "df[\"Junk\"] = 28\n",
    "df"
   ]
  },
  {
   "cell_type": "markdown",
   "id": "70fd3ac0-4d55-4f05-ab5e-f11d59d45a4b",
   "metadata": {},
   "source": [
    "### Removing columns\n",
    "\n",
    "Let's now get rid of that \"Junk\" column. To do this, use the `.drop()` method:"
   ]
  },
  {
   "cell_type": "code",
   "execution_count": null,
   "id": "a675edfd-389e-4a7a-a743-88d43d110a14",
   "metadata": {},
   "outputs": [],
   "source": [
    "df = df.drop(columns = \"Junk\")\n",
    "df"
   ]
  },
  {
   "cell_type": "markdown",
   "id": "0c953a5b-e301-4e34-852f-fa70a502d271",
   "metadata": {},
   "source": [
    "Now, you try it. Add a new column called \"marketValue\" that is calculated as \"stockShares\" * \"stockPrice\"\n",
    "\n",
    "Then look at `df` to ensure the change took effect."
   ]
  },
  {
   "cell_type": "code",
   "execution_count": null,
   "id": "5d7a02b8-3d0b-42c5-a35b-f7881856e2bd",
   "metadata": {},
   "outputs": [],
   "source": []
  },
  {
   "cell_type": "markdown",
   "id": "2fc35d86-90a2-41ab-8e91-8c19bb1f5b19",
   "metadata": {},
   "source": [
    "### Changing Data\n",
    "\n",
    "Remember the `tickerSymbol` column has a mix of upper- and lower-case ticker symbols:"
   ]
  },
  {
   "cell_type": "code",
   "execution_count": null,
   "id": "4785abc5-6463-4dce-8617-345b1e4b5742",
   "metadata": {},
   "outputs": [],
   "source": [
    "df[\"tickerSymbol\"].value_counts().sort_index()"
   ]
  },
  {
   "cell_type": "markdown",
   "id": "4387b4ae-30ea-4ef3-a937-ffaece26b3c7",
   "metadata": {},
   "source": [
    "In python, you can change the case of a string using either `.str.upper()` or `.str.lower()`. Notice what happens when adding `.str.upper()` before the `.value_counts()` command:"
   ]
  },
  {
   "cell_type": "code",
   "execution_count": null,
   "id": "2b79c95f-6d28-4ddb-ab20-50c5db4515b6",
   "metadata": {},
   "outputs": [],
   "source": [
    "df[\"tickerSymbol\"].str.upper().value_counts().sort_index()"
   ]
  },
  {
   "cell_type": "markdown",
   "id": "aa897153-2cc6-4d90-a73e-956f5a133289",
   "metadata": {},
   "source": [
    "Of course, that didn't change the actual values for that column:"
   ]
  },
  {
   "cell_type": "code",
   "execution_count": null,
   "id": "728d5ea5-d0da-4f47-81b1-069e80f3aea5",
   "metadata": {},
   "outputs": [],
   "source": [
    "df[\"tickerSymbol\"]"
   ]
  },
  {
   "cell_type": "markdown",
   "id": "976104dd-b612-414b-b0a2-8cff5acaef22",
   "metadata": {},
   "source": [
    "Using an assignment statement, change the \"tickerSymbol\" values to be all in upper-case and re-run the code in the previous cell to check that the changes worked:"
   ]
  },
  {
   "cell_type": "code",
   "execution_count": null,
   "id": "bc2890ce-ef5c-49cb-aa26-8c02e8071591",
   "metadata": {},
   "outputs": [],
   "source": []
  },
  {
   "cell_type": "markdown",
   "id": "38af11d0-c5c1-44be-a3c0-33397eb4d5c8",
   "metadata": {},
   "source": [
    "### Locating Data\n",
    "\n",
    "What if there are only specific values we want to change?\n",
    "\n",
    "Let's take another look at the distribution of the price data:"
   ]
  },
  {
   "cell_type": "code",
   "execution_count": null,
   "id": "c6b6dc48-b747-482b-b8b1-270d775f72ce",
   "metadata": {},
   "outputs": [],
   "source": [
    "df[\"stockPrice\"].describe()\n",
    "df[\"stockPrice\"].plot.hist(bins = 40)"
   ]
  },
  {
   "cell_type": "markdown",
   "id": "8304322a-eef5-4717-ab6f-0f84396f2783",
   "metadata": {},
   "source": [
    "What are the clues that we have one or more outliers?\n",
    "\n",
    "Once we've identified a value (such as a potential outlier) to change, how do we change it?\n",
    "\n",
    "First, lets locate the row(s) with outliers based on some logical condition. We do this with `.loc[]` ... notice the `[]` instead of `()`. "
   ]
  },
  {
   "cell_type": "code",
   "execution_count": null,
   "id": "464d2a63-6705-41bc-b259-bbd7501c9ee6",
   "metadata": {},
   "outputs": [],
   "source": [
    "# Locating rows based on logical conditions:\n",
    "df.loc[df[\"tickerSymbol\"] == \"AAPL\"]\n",
    "\n",
    "# Locating rows and column:\n",
    "df.loc[df[\"tickerSymbol\"] == \"AAPL\", \"revenue\"]"
   ]
  },
  {
   "cell_type": "markdown",
   "id": "85d2f56b-4abb-43b0-83fa-deaea8c4f886",
   "metadata": {},
   "source": [
    "The general structure of the `.loc[]` command is:\n",
    "```\n",
    "dataFrame.loc[rowCriteria, columnCriteria]\n",
    "```\n",
    "\n",
    "Now, you try...locate any row with a \"stockPrice\" greater than 10000. For now, include all columns:"
   ]
  },
  {
   "cell_type": "code",
   "execution_count": null,
   "id": "9cd45007-b47f-4607-a84d-a485b56734d5",
   "metadata": {},
   "outputs": [],
   "source": []
  },
  {
   "cell_type": "markdown",
   "id": "c30b21f5-ce02-41dc-83d4-486cec08f9ab",
   "metadata": {},
   "source": [
    "Copy the command above and re-run it, selecting only the \"stockPrice\" column:"
   ]
  },
  {
   "cell_type": "code",
   "execution_count": null,
   "id": "4cd086e6-ffd8-4c3d-a8a8-ce53dcc94646",
   "metadata": {},
   "outputs": [],
   "source": []
  },
  {
   "cell_type": "markdown",
   "id": "e222f2d9-df0a-47f1-84bb-fea28430ee24",
   "metadata": {},
   "source": [
    "Now that we have located the actual outlier value, we can change it with an assignment statement. Run the code below to change it to 10001:"
   ]
  },
  {
   "cell_type": "code",
   "execution_count": null,
   "id": "dc42e7df-fab7-4ce7-aa48-449147064b89",
   "metadata": {},
   "outputs": [],
   "source": [
    "df.loc[df[\"stockPrice\"] > 10000, \"stockPrice\"] = 10001\n",
    "df.loc[df[\"stockPrice\"] > 10000, \"stockPrice\"]"
   ]
  },
  {
   "cell_type": "markdown",
   "id": "ce6e947e-cb08-42dc-9509-be84f451af47",
   "metadata": {},
   "source": [
    "Of course, we don't want to make the outlier value even worse. Since it's likely a value greater than 10000 is an error, let's change it to `NaN` so that it doesn't impact our analysis. We can do this with the `.NaN` function from the `numpy` module. \n",
    "\n",
    "Import `numpy` and change the outlier value to `NaN` as follows:"
   ]
  },
  {
   "cell_type": "code",
   "execution_count": null,
   "id": "a6e6493a-7721-4c87-9264-7279c328bb91",
   "metadata": {},
   "outputs": [],
   "source": [
    "import numpy as np\n",
    "df.loc[df[\"stockPrice\"] > 10000, \"stockPrice\"] = np.NaN"
   ]
  },
  {
   "cell_type": "markdown",
   "id": "db31e007-8af6-434f-ae1a-0fbdc900fe89",
   "metadata": {},
   "source": [
    "Notice there is now a missing value for \"stockPrice\":"
   ]
  },
  {
   "cell_type": "code",
   "execution_count": null,
   "id": "3d049475-fb1a-4f22-9b08-d82702232cef",
   "metadata": {},
   "outputs": [],
   "source": [
    "df.isna().sum()"
   ]
  },
  {
   "cell_type": "markdown",
   "id": "047ff4ac-c968-4d10-91f4-cea0038e5ef0",
   "metadata": {},
   "source": [
    "Run the following code to see the impact this has on our summary stats and histogram:"
   ]
  },
  {
   "cell_type": "code",
   "execution_count": null,
   "id": "1b0996b1-c506-43ff-9b1a-5f1dbee50fce",
   "metadata": {},
   "outputs": [],
   "source": [
    "df[\"stockPrice\"].describe()\n",
    "df[\"stockPrice\"].plot.hist(bins = 40)"
   ]
  },
  {
   "cell_type": "markdown",
   "id": "d23e60d3-5c9f-44de-9b87-cd3bc097a91e",
   "metadata": {},
   "source": [
    "We're not done yet. Remember that python is sequential and we created the \"marketValue\" column *before* changing the outlier value. Here, we can see that the \"marketValue\" didn't change for this row:"
   ]
  },
  {
   "cell_type": "code",
   "execution_count": null,
   "id": "e590f26f-1b99-4f77-8c39-30b7853bf4e6",
   "metadata": {},
   "outputs": [],
   "source": [
    "# I'm using df.index to refer to the specific row number from the DataFrame:\n",
    "df.loc[df.index == 3446]"
   ]
  },
  {
   "cell_type": "markdown",
   "id": "f9f9f7d8-10a3-4913-a63e-ede6c7433cd8",
   "metadata": {},
   "source": [
    "Re-run the following code cell to re-calculate \"marketValue\" and notice that we now have a missing value for that column (because python can't do math with a missing value):"
   ]
  },
  {
   "cell_type": "code",
   "execution_count": null,
   "id": "fa727176-a75f-406c-a71b-c6aad2f6a4dc",
   "metadata": {},
   "outputs": [],
   "source": [
    "df[\"marketValue\"] = df[\"stockShares\"] * df[\"stockPrice\"]\n",
    "df.loc[df.index == 3446]\n",
    "df.isna().sum()"
   ]
  },
  {
   "cell_type": "markdown",
   "id": "cb225c78-d13c-4452-8662-5984cc0a6790",
   "metadata": {},
   "source": [
    "### Using `.loc[]` with Multiple Conditions\n",
    "\n",
    "If you have multiple logical conditions, you can still combine them with `&` (and) and `|` (or), using parentheses for each condition:"
   ]
  },
  {
   "cell_type": "code",
   "execution_count": null,
   "id": "3fff1c5c-1076-4849-990b-1c7d057685d6",
   "metadata": {},
   "outputs": [],
   "source": [
    "df.loc[(df[\"stockPrice\"] > 1000) & (df[\"tickerSymbol\"] == \"AAPL\")]"
   ]
  },
  {
   "cell_type": "markdown",
   "id": "3f644c3b-481e-43f4-b74a-0856c6d146f4",
   "metadata": {},
   "source": [
    "### Why use `.loc[]` instead of `.query()`?\n",
    "\n",
    "The primary reason is that you can't change a value with `.query()`...you can only filter using that method. To change the values, you need to use `.loc[]`.\n",
    "\n",
    "Can you use `.loc[]` instead of `.query()` if you're just filtering your data? Yes, but some programmers prefer `.query()` to filter because you don't have to keep re-typing the name of the DataFrame when referring to column names. This is why we cover it."
   ]
  },
  {
   "cell_type": "markdown",
   "id": "f46b67d2-190f-457c-9b5f-aed00aa95f8b",
   "metadata": {},
   "source": [
    "### Transforming Features\n",
    "\n",
    "Plot temperature (x-axis) vs. revenue (y-axis):"
   ]
  },
  {
   "cell_type": "code",
   "execution_count": null,
   "id": "6a693fca-489e-4a27-9052-af92f0b3a12a",
   "metadata": {},
   "outputs": [],
   "source": []
  },
  {
   "cell_type": "markdown",
   "id": "d35b9862-3168-48b7-afd8-5f086761a9b3",
   "metadata": {},
   "source": [
    "Now, create a new column called \"temperature2\" which squares the temperature. Then, re-run the scatterplot using the new column:"
   ]
  },
  {
   "cell_type": "code",
   "execution_count": null,
   "id": "9d04f7b2-c944-44d1-b480-953cd5223968",
   "metadata": {},
   "outputs": [],
   "source": []
  },
  {
   "cell_type": "markdown",
   "id": "f295126f-6bf9-4226-ab8e-de587bb712c7",
   "metadata": {},
   "source": [
    "***Squaring the variable is a good transformation technique when the original data shows a U-shaped curve.***"
   ]
  },
  {
   "cell_type": "markdown",
   "id": "3a296c9b-25db-48a0-bc5f-c508ff5f7015",
   "metadata": {},
   "source": [
    "Now plot quantity (x-axis) vs. cogs (y-axis):"
   ]
  },
  {
   "cell_type": "code",
   "execution_count": null,
   "id": "910fe7ec-62f8-4353-9835-0f74f6eb0b70",
   "metadata": {},
   "outputs": [],
   "source": []
  },
  {
   "cell_type": "markdown",
   "id": "85d33809-98e8-4e36-a96a-b2165cbe7106",
   "metadata": {},
   "source": [
    "Create a new column called \"quantityLog\" that logs the data in that column. You can use the `log()` function from `numpy` (which we've already imported as `np`). Then, re-run the scatterplot with the new column:"
   ]
  },
  {
   "cell_type": "code",
   "execution_count": null,
   "id": "4d365b12-8fc7-4310-b0ed-677494d8770b",
   "metadata": {},
   "outputs": [],
   "source": []
  },
  {
   "cell_type": "markdown",
   "id": "f7e59a79-0c42-4831-8b9a-be53f4dc7665",
   "metadata": {},
   "source": [
    "***Logging the variable is a good transformation technique when the original data shows a logarithmic curve (similar to half the U-shaped curve, although continuously increasing or decreasing). This type of curve often occurs if one of the variables is heavily skewed.***"
   ]
  },
  {
   "cell_type": "markdown",
   "id": "a4cec854-ee4c-4f9d-99d0-81cb8c70142b",
   "metadata": {},
   "source": [
    "### Interaction Features\n",
    "\n",
    "Transformations can include more than one variable. Let's look at the relationship of both revenue and cogs to market value.\n",
    "\n",
    "First, plot revenue (x-axis) vs. marketValue (y-axis):"
   ]
  },
  {
   "cell_type": "code",
   "execution_count": null,
   "id": "7ba13094-d1e0-40a5-b1db-478c0649d353",
   "metadata": {},
   "outputs": [],
   "source": []
  },
  {
   "cell_type": "markdown",
   "id": "4bfc4cc0-5c8e-4470-9476-6f87cf61e864",
   "metadata": {},
   "source": [
    "Now, plot cogs (x-axis) vs. marketValue (y-axis):"
   ]
  },
  {
   "cell_type": "code",
   "execution_count": null,
   "id": "4af560be-e349-477d-8438-022f67f030f1",
   "metadata": {},
   "outputs": [],
   "source": []
  },
  {
   "cell_type": "markdown",
   "id": "0a593ea1-4c59-4d8c-b334-34ca0a3643f9",
   "metadata": {},
   "source": [
    "Now, let's take a look at how the ratio of revenue to expenses impacts market value. First, create a new column called \"ratio\" which is calculated as revenue divided by cogs. Then create a scatterplot of ratio (x-axis) to marketValue (y-axis):"
   ]
  },
  {
   "cell_type": "code",
   "execution_count": null,
   "id": "6e53ef9e-7c61-48aa-94e7-6f9f2df23183",
   "metadata": {},
   "outputs": [],
   "source": []
  },
  {
   "cell_type": "markdown",
   "id": "171d8c6b-83be-4fbc-9314-9d736292c547",
   "metadata": {},
   "source": [
    "***Interacting 2 variables (e.g., multiplying them together or dividing them) will often create a stronger model feature than keeping the variables separate.***"
   ]
  },
  {
   "cell_type": "markdown",
   "id": "c8560c0c-09ae-4187-b016-4a1bb54ab54d",
   "metadata": {},
   "source": [
    "### Transforming Unstructured Data into a Feature\n",
    "\n",
    "Unstructured data like text, image, audio, video, etc. require processing before we can use it in a model. \n",
    "\n",
    "Add a column \"statementLength\" that is the length of the text in the statement. You can get the length of a string by adding `.str.len()` to the variable as follows:"
   ]
  },
  {
   "cell_type": "code",
   "execution_count": null,
   "id": "80b94de2-876a-4784-8d97-8f9f2d4f8083",
   "metadata": {},
   "outputs": [],
   "source": [
    "df[\"statementLength\"] = df[\"statement\"].str.len()\n",
    "df[\"statementLength\"].describe()"
   ]
  },
  {
   "cell_type": "markdown",
   "id": "a39f79ec-faa7-4d43-b4c2-fcea2f827d5a",
   "metadata": {},
   "source": [
    "Now, plot statementLength (x-axis) vs. marketValue (y-axis):"
   ]
  },
  {
   "cell_type": "code",
   "execution_count": null,
   "id": "63de14f3-05ae-46ae-a75e-a33efd3d9834",
   "metadata": {},
   "outputs": [],
   "source": []
  }
 ],
 "metadata": {
  "kernelspec": {
   "display_name": "Python 3 (ipykernel)",
   "language": "python",
   "name": "python3"
  },
  "language_info": {
   "codemirror_mode": {
    "name": "ipython",
    "version": 3
   },
   "file_extension": ".py",
   "mimetype": "text/x-python",
   "name": "python",
   "nbconvert_exporter": "python",
   "pygments_lexer": "ipython3",
   "version": "3.10.10"
  }
 },
 "nbformat": 4,
 "nbformat_minor": 5
}
