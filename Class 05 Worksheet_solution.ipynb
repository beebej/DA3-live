{
 "cells": [
  {
   "cell_type": "code",
   "execution_count": 14,
   "id": "4b70e60d-48d5-4df2-b59a-b42db90db1ef",
   "metadata": {
    "slideshow": {
     "slide_type": "slide"
    },
    "tags": []
   },
   "outputs": [],
   "source": [
    "#Run the following code to print multiple outputs from a cell\n",
    "get_ipython().ast_node_interactivity = 'all'"
   ]
  },
  {
   "cell_type": "markdown",
   "id": "7b76d04e-14a3-4ec0-bbcc-3a932ada3e29",
   "metadata": {},
   "source": [
    "# Class 05 Worksheet\n",
    "\n",
    "## Importing & Profiling the Data\n",
    "Import the file, \"StockData.csv\", and save it in a variable called `df`. Then, do some initial data profiling of the data based on what we covered the last 2 classes. "
   ]
  },
  {
   "cell_type": "code",
   "execution_count": 15,
   "id": "eb9b728a-74be-4777-9614-a336e05461b1",
   "metadata": {},
   "outputs": [
    {
     "data": {
      "text/html": [
       "<div>\n",
       "<style scoped>\n",
       "    .dataframe tbody tr th:only-of-type {\n",
       "        vertical-align: middle;\n",
       "    }\n",
       "\n",
       "    .dataframe tbody tr th {\n",
       "        vertical-align: top;\n",
       "    }\n",
       "\n",
       "    .dataframe thead th {\n",
       "        text-align: right;\n",
       "    }\n",
       "</style>\n",
       "<table border=\"1\" class=\"dataframe\">\n",
       "  <thead>\n",
       "    <tr style=\"text-align: right;\">\n",
       "      <th></th>\n",
       "      <th>ticker symbol</th>\n",
       "      <th>date</th>\n",
       "      <th>stockShares</th>\n",
       "      <th>stockPrice</th>\n",
       "      <th>revenue</th>\n",
       "      <th>cogs</th>\n",
       "      <th>quantity</th>\n",
       "      <th>temperature</th>\n",
       "      <th>statement</th>\n",
       "    </tr>\n",
       "  </thead>\n",
       "  <tbody>\n",
       "    <tr>\n",
       "      <th>0</th>\n",
       "      <td>AAPL</td>\n",
       "      <td>2020-01-22</td>\n",
       "      <td>866.883293</td>\n",
       "      <td>1206.332454</td>\n",
       "      <td>295.482953</td>\n",
       "      <td>282.851724</td>\n",
       "      <td>19.042495</td>\n",
       "      <td>18.501153</td>\n",
       "      <td>Sit conubia diam vivamus a arcu dapibus in at ...</td>\n",
       "    </tr>\n",
       "    <tr>\n",
       "      <th>1</th>\n",
       "      <td>AAPL</td>\n",
       "      <td>2020-03-13</td>\n",
       "      <td>866.883293</td>\n",
       "      <td>1601.149567</td>\n",
       "      <td>332.422321</td>\n",
       "      <td>239.641384</td>\n",
       "      <td>12.749161</td>\n",
       "      <td>-17.850676</td>\n",
       "      <td>Metus bibendum mus nostra sodales consectetur,...</td>\n",
       "    </tr>\n",
       "    <tr>\n",
       "      <th>2</th>\n",
       "      <td>aapl</td>\n",
       "      <td>2020-03-26</td>\n",
       "      <td>866.883293</td>\n",
       "      <td>966.541988</td>\n",
       "      <td>290.358237</td>\n",
       "      <td>346.965304</td>\n",
       "      <td>37.337391</td>\n",
       "      <td>-18.727952</td>\n",
       "      <td>Ligula quisque erat, nulla in. Platea, aenean at</td>\n",
       "    </tr>\n",
       "    <tr>\n",
       "      <th>3</th>\n",
       "      <td>AAPL</td>\n",
       "      <td>2020-03-30</td>\n",
       "      <td>866.883293</td>\n",
       "      <td>1047.833463</td>\n",
       "      <td>295.507002</td>\n",
       "      <td>325.697458</td>\n",
       "      <td>29.899850</td>\n",
       "      <td>-19.209063</td>\n",
       "      <td>Dictumst ultrices penatibus, viverra pellentes...</td>\n",
       "    </tr>\n",
       "    <tr>\n",
       "      <th>4</th>\n",
       "      <td>aapl</td>\n",
       "      <td>2020-03-27</td>\n",
       "      <td>866.883293</td>\n",
       "      <td>1004.403268</td>\n",
       "      <td>263.669375</td>\n",
       "      <td>303.239492</td>\n",
       "      <td>20.762000</td>\n",
       "      <td>-19.731995</td>\n",
       "      <td>Dis, accumsan senectus nisl eu at hendrerit. S...</td>\n",
       "    </tr>\n",
       "    <tr>\n",
       "      <th>...</th>\n",
       "      <td>...</td>\n",
       "      <td>...</td>\n",
       "      <td>...</td>\n",
       "      <td>...</td>\n",
       "      <td>...</td>\n",
       "      <td>...</td>\n",
       "      <td>...</td>\n",
       "      <td>...</td>\n",
       "      <td>...</td>\n",
       "    </tr>\n",
       "    <tr>\n",
       "      <th>7855</th>\n",
       "      <td>wmt</td>\n",
       "      <td>2020-10-06</td>\n",
       "      <td>833.979461</td>\n",
       "      <td>1285.952063</td>\n",
       "      <td>311.565775</td>\n",
       "      <td>290.771584</td>\n",
       "      <td>21.007769</td>\n",
       "      <td>18.317446</td>\n",
       "      <td>Id, vestibulum sed laoreet augue turpis felis ...</td>\n",
       "    </tr>\n",
       "    <tr>\n",
       "      <th>7856</th>\n",
       "      <td>WMT</td>\n",
       "      <td>2020-10-05</td>\n",
       "      <td>833.979461</td>\n",
       "      <td>1257.930537</td>\n",
       "      <td>330.121727</td>\n",
       "      <td>315.013983</td>\n",
       "      <td>25.309684</td>\n",
       "      <td>17.749011</td>\n",
       "      <td>Mi ut mi erat eleifend tristique ullamcorper e...</td>\n",
       "    </tr>\n",
       "    <tr>\n",
       "      <th>7857</th>\n",
       "      <td>WMT</td>\n",
       "      <td>2020-10-07</td>\n",
       "      <td>833.979461</td>\n",
       "      <td>1408.577951</td>\n",
       "      <td>388.054447</td>\n",
       "      <td>330.666912</td>\n",
       "      <td>29.662335</td>\n",
       "      <td>16.115598</td>\n",
       "      <td>Aliquam lacus aliquam urna arcu venenatis faci...</td>\n",
       "    </tr>\n",
       "    <tr>\n",
       "      <th>7858</th>\n",
       "      <td>WMT</td>\n",
       "      <td>2020-10-20</td>\n",
       "      <td>833.979461</td>\n",
       "      <td>1258.867973</td>\n",
       "      <td>314.862642</td>\n",
       "      <td>300.179547</td>\n",
       "      <td>21.689385</td>\n",
       "      <td>18.683981</td>\n",
       "      <td>Condimentum pellentesque donec varius quam sit...</td>\n",
       "    </tr>\n",
       "    <tr>\n",
       "      <th>7859</th>\n",
       "      <td>wmt</td>\n",
       "      <td>2020-12-10</td>\n",
       "      <td>833.979461</td>\n",
       "      <td>1023.343929</td>\n",
       "      <td>318.379154</td>\n",
       "      <td>373.475042</td>\n",
       "      <td>45.670000</td>\n",
       "      <td>-18.150573</td>\n",
       "      <td>Natoque integer nec a, lectus varius quis dict...</td>\n",
       "    </tr>\n",
       "  </tbody>\n",
       "</table>\n",
       "<p>7860 rows × 9 columns</p>\n",
       "</div>"
      ],
      "text/plain": [
       "     ticker symbol        date  stockShares   stockPrice     revenue  \\\n",
       "0             AAPL  2020-01-22   866.883293  1206.332454  295.482953   \n",
       "1             AAPL  2020-03-13   866.883293  1601.149567  332.422321   \n",
       "2             aapl  2020-03-26   866.883293   966.541988  290.358237   \n",
       "3             AAPL  2020-03-30   866.883293  1047.833463  295.507002   \n",
       "4             aapl  2020-03-27   866.883293  1004.403268  263.669375   \n",
       "...            ...         ...          ...          ...         ...   \n",
       "7855           wmt  2020-10-06   833.979461  1285.952063  311.565775   \n",
       "7856           WMT  2020-10-05   833.979461  1257.930537  330.121727   \n",
       "7857           WMT  2020-10-07   833.979461  1408.577951  388.054447   \n",
       "7858           WMT  2020-10-20   833.979461  1258.867973  314.862642   \n",
       "7859           wmt  2020-12-10   833.979461  1023.343929  318.379154   \n",
       "\n",
       "            cogs   quantity  temperature  \\\n",
       "0     282.851724  19.042495    18.501153   \n",
       "1     239.641384  12.749161   -17.850676   \n",
       "2     346.965304  37.337391   -18.727952   \n",
       "3     325.697458  29.899850   -19.209063   \n",
       "4     303.239492  20.762000   -19.731995   \n",
       "...          ...        ...          ...   \n",
       "7855  290.771584  21.007769    18.317446   \n",
       "7856  315.013983  25.309684    17.749011   \n",
       "7857  330.666912  29.662335    16.115598   \n",
       "7858  300.179547  21.689385    18.683981   \n",
       "7859  373.475042  45.670000   -18.150573   \n",
       "\n",
       "                                              statement  \n",
       "0     Sit conubia diam vivamus a arcu dapibus in at ...  \n",
       "1     Metus bibendum mus nostra sodales consectetur,...  \n",
       "2     Ligula quisque erat, nulla in. Platea, aenean at   \n",
       "3     Dictumst ultrices penatibus, viverra pellentes...  \n",
       "4     Dis, accumsan senectus nisl eu at hendrerit. S...  \n",
       "...                                                 ...  \n",
       "7855  Id, vestibulum sed laoreet augue turpis felis ...  \n",
       "7856  Mi ut mi erat eleifend tristique ullamcorper e...  \n",
       "7857  Aliquam lacus aliquam urna arcu venenatis faci...  \n",
       "7858  Condimentum pellentesque donec varius quam sit...  \n",
       "7859  Natoque integer nec a, lectus varius quis dict...  \n",
       "\n",
       "[7860 rows x 9 columns]"
      ]
     },
     "execution_count": 15,
     "metadata": {},
     "output_type": "execute_result"
    }
   ],
   "source": [
    "import pandas as pd\n",
    "df = pd.read_csv(\"StockData.csv\")\n",
    "df"
   ]
  },
  {
   "cell_type": "markdown",
   "id": "e9becfab-6bd3-4970-814d-3c00346c01c4",
   "metadata": {},
   "source": [
    "What are the data types?"
   ]
  },
  {
   "cell_type": "code",
   "execution_count": 16,
   "id": "3cfb339f-67bf-47d9-8612-f4fe85719c2b",
   "metadata": {},
   "outputs": [
    {
     "data": {
      "text/plain": [
       "ticker symbol     object\n",
       "date              object\n",
       "stockShares      float64\n",
       "stockPrice       float64\n",
       "revenue          float64\n",
       "cogs             float64\n",
       "quantity         float64\n",
       "temperature      float64\n",
       "statement         object\n",
       "dtype: object"
      ]
     },
     "execution_count": 16,
     "metadata": {},
     "output_type": "execute_result"
    }
   ],
   "source": [
    "df.dtypes"
   ]
  },
  {
   "cell_type": "markdown",
   "id": "4f7c8809-d6fd-4136-bc16-ad36c19fa5f9",
   "metadata": {},
   "source": [
    "Are there missing values?"
   ]
  },
  {
   "cell_type": "code",
   "execution_count": 17,
   "id": "2f50792a-7b2f-40b5-aa05-d0c7817a1a4c",
   "metadata": {},
   "outputs": [
    {
     "data": {
      "text/plain": [
       "ticker symbol    0\n",
       "date             0\n",
       "stockShares      0\n",
       "stockPrice       0\n",
       "revenue          0\n",
       "cogs             0\n",
       "quantity         0\n",
       "temperature      0\n",
       "statement        0\n",
       "dtype: int64"
      ]
     },
     "execution_count": 17,
     "metadata": {},
     "output_type": "execute_result"
    }
   ],
   "source": [
    "df.isna().sum()"
   ]
  },
  {
   "cell_type": "markdown",
   "id": "35ac492c-5643-4261-82a9-a7649159a4ad",
   "metadata": {},
   "source": [
    "What are the summary statistics for the quantitative variables? What can you say about the variables based on the summary?"
   ]
  },
  {
   "cell_type": "code",
   "execution_count": 18,
   "id": "83ea1c45-4f00-4f5a-afaa-ae1a10ab8802",
   "metadata": {},
   "outputs": [
    {
     "data": {
      "text/html": [
       "<div>\n",
       "<style scoped>\n",
       "    .dataframe tbody tr th:only-of-type {\n",
       "        vertical-align: middle;\n",
       "    }\n",
       "\n",
       "    .dataframe tbody tr th {\n",
       "        vertical-align: top;\n",
       "    }\n",
       "\n",
       "    .dataframe thead th {\n",
       "        text-align: right;\n",
       "    }\n",
       "</style>\n",
       "<table border=\"1\" class=\"dataframe\">\n",
       "  <thead>\n",
       "    <tr style=\"text-align: right;\">\n",
       "      <th></th>\n",
       "      <th>stockShares</th>\n",
       "      <th>stockPrice</th>\n",
       "      <th>revenue</th>\n",
       "      <th>cogs</th>\n",
       "      <th>quantity</th>\n",
       "      <th>temperature</th>\n",
       "    </tr>\n",
       "  </thead>\n",
       "  <tbody>\n",
       "    <tr>\n",
       "      <th>count</th>\n",
       "      <td>7860.000000</td>\n",
       "      <td>7860.000000</td>\n",
       "      <td>7860.000000</td>\n",
       "      <td>7860.000000</td>\n",
       "      <td>7860.000000</td>\n",
       "      <td>7860.000000</td>\n",
       "    </tr>\n",
       "    <tr>\n",
       "      <th>mean</th>\n",
       "      <td>978.156058</td>\n",
       "      <td>1312.100263</td>\n",
       "      <td>355.452999</td>\n",
       "      <td>297.794156</td>\n",
       "      <td>26.615955</td>\n",
       "      <td>-0.343343</td>\n",
       "    </tr>\n",
       "    <tr>\n",
       "      <th>std</th>\n",
       "      <td>98.516888</td>\n",
       "      <td>541.486311</td>\n",
       "      <td>69.957051</td>\n",
       "      <td>62.245534</td>\n",
       "      <td>19.520975</td>\n",
       "      <td>17.149851</td>\n",
       "    </tr>\n",
       "    <tr>\n",
       "      <th>min</th>\n",
       "      <td>809.784278</td>\n",
       "      <td>476.949801</td>\n",
       "      <td>179.316987</td>\n",
       "      <td>131.986703</td>\n",
       "      <td>4.213687</td>\n",
       "      <td>-21.840318</td>\n",
       "    </tr>\n",
       "    <tr>\n",
       "      <th>25%</th>\n",
       "      <td>924.292173</td>\n",
       "      <td>1003.550696</td>\n",
       "      <td>305.754637</td>\n",
       "      <td>255.680705</td>\n",
       "      <td>14.187851</td>\n",
       "      <td>-17.459061</td>\n",
       "    </tr>\n",
       "    <tr>\n",
       "      <th>50%</th>\n",
       "      <td>976.091229</td>\n",
       "      <td>1190.045157</td>\n",
       "      <td>346.505519</td>\n",
       "      <td>294.783712</td>\n",
       "      <td>21.066767</td>\n",
       "      <td>-11.233978</td>\n",
       "    </tr>\n",
       "    <tr>\n",
       "      <th>75%</th>\n",
       "      <td>1038.403035</td>\n",
       "      <td>1434.035044</td>\n",
       "      <td>396.804068</td>\n",
       "      <td>337.477349</td>\n",
       "      <td>32.286660</td>\n",
       "      <td>17.308275</td>\n",
       "    </tr>\n",
       "    <tr>\n",
       "      <th>max</th>\n",
       "      <td>1184.148135</td>\n",
       "      <td>12099.338748</td>\n",
       "      <td>619.630921</td>\n",
       "      <td>513.715137</td>\n",
       "      <td>198.253185</td>\n",
       "      <td>21.587124</td>\n",
       "    </tr>\n",
       "  </tbody>\n",
       "</table>\n",
       "</div>"
      ],
      "text/plain": [
       "       stockShares    stockPrice      revenue         cogs     quantity  \\\n",
       "count  7860.000000   7860.000000  7860.000000  7860.000000  7860.000000   \n",
       "mean    978.156058   1312.100263   355.452999   297.794156    26.615955   \n",
       "std      98.516888    541.486311    69.957051    62.245534    19.520975   \n",
       "min     809.784278    476.949801   179.316987   131.986703     4.213687   \n",
       "25%     924.292173   1003.550696   305.754637   255.680705    14.187851   \n",
       "50%     976.091229   1190.045157   346.505519   294.783712    21.066767   \n",
       "75%    1038.403035   1434.035044   396.804068   337.477349    32.286660   \n",
       "max    1184.148135  12099.338748   619.630921   513.715137   198.253185   \n",
       "\n",
       "       temperature  \n",
       "count  7860.000000  \n",
       "mean     -0.343343  \n",
       "std      17.149851  \n",
       "min     -21.840318  \n",
       "25%     -17.459061  \n",
       "50%     -11.233978  \n",
       "75%      17.308275  \n",
       "max      21.587124  "
      ]
     },
     "execution_count": 18,
     "metadata": {},
     "output_type": "execute_result"
    }
   ],
   "source": [
    "df.describe()"
   ]
  },
  {
   "cell_type": "markdown",
   "id": "e2fcb852-6ac3-41b8-b73e-c5b1c15bae15",
   "metadata": {},
   "source": [
    "Create histograms for \"stockShares\", \"stockPrice\", and \"temperature\". Try using the parameter `bins=` to set the number of bins for your histogram (e.g., `bins=30`, `bins=40`, etc.)."
   ]
  },
  {
   "cell_type": "code",
   "execution_count": 19,
   "id": "2210f5c3-e522-4149-9093-a34189a4c86a",
   "metadata": {},
   "outputs": [
    {
     "data": {
      "text/plain": [
       "<AxesSubplot: ylabel='Frequency'>"
      ]
     },
     "execution_count": 19,
     "metadata": {},
     "output_type": "execute_result"
    },
    {
     "data": {
      "image/png": "[encoded data removed]",
      "text/plain": [
       "<Figure size 640x480 with 1 Axes>"
      ]
     },
     "metadata": {},
     "output_type": "display_data"
    }
   ],
   "source": [
    "# Histogram for stockShares:\n",
    "df[\"stockShares\"].plot.hist(bins = 30) # use \"bins\" to specify the level of detail"
   ]
  },
  {
   "cell_type": "code",
   "execution_count": 20,
   "id": "c53c4325-48d5-4f57-863a-67d57a4db6fc",
   "metadata": {},
   "outputs": [
    {
     "data": {
      "text/plain": [
       "<AxesSubplot: ylabel='Frequency'>"
      ]
     },
     "execution_count": 20,
     "metadata": {},
     "output_type": "execute_result"
    },
    {
     "data": {
      "image/png": "[encoded data removed]",
      "text/plain": [
       "<Figure size 640x480 with 1 Axes>"
      ]
     },
     "metadata": {},
     "output_type": "display_data"
    }
   ],
   "source": [
    "# Histogram for stockPrice:\n",
    "df[\"stockPrice\"].plot.hist(bins = 40)"
   ]
  },
  {
   "cell_type": "code",
   "execution_count": 21,
   "id": "83f3b0cb-a4a9-4199-824b-5a976eb6aba3",
   "metadata": {},
   "outputs": [
    {
     "data": {
      "text/plain": [
       "<AxesSubplot: ylabel='Frequency'>"
      ]
     },
     "execution_count": 21,
     "metadata": {},
     "output_type": "execute_result"
    },
    {
     "data": {
      "image/png": "[encoded data removed]",
      "text/plain": [
       "<Figure size 640x480 with 1 Axes>"
      ]
     },
     "metadata": {},
     "output_type": "display_data"
    }
   ],
   "source": [
    "# Histogram for temperature:\n",
    "df[\"temperature\"].plot.hist(bins = 40)"
   ]
  },
  {
   "cell_type": "markdown",
   "id": "3ce0ad92-04f1-4064-81e0-ac892df551d2",
   "metadata": {},
   "source": [
    "Can you make any conclusions about these variables from the histograms?"
   ]
  },
  {
   "cell_type": "markdown",
   "id": "42c7c904-76ad-4e23-a22d-e532595df414",
   "metadata": {},
   "source": [
    "How many categories are there for \"ticket symbol\" and what are the categories? Do you know notice anything strange about this variable?"
   ]
  },
  {
   "cell_type": "code",
   "execution_count": 22,
   "id": "67e3ab56-5145-4ebe-b6f9-8aac8ce5ed2f",
   "metadata": {},
   "outputs": [
    {
     "data": {
      "text/plain": [
       "60"
      ]
     },
     "execution_count": 22,
     "metadata": {},
     "output_type": "execute_result"
    },
    {
     "data": {
      "text/plain": [
       "CAT     148\n",
       "VZ      147\n",
       "DOW     146\n",
       "AMGN    144\n",
       "PG      143\n",
       "MMM     141\n",
       "wba     140\n",
       "gs      140\n",
       "cvx     139\n",
       "hd      138\n",
       "jpm     138\n",
       "ibm     138\n",
       "MRK     137\n",
       "AXP     136\n",
       "unh     136\n",
       "csco    136\n",
       "DIS     135\n",
       "HON     134\n",
       "ko      134\n",
       "WMT     134\n",
       "NKE     134\n",
       "MCD     133\n",
       "TRV     133\n",
       "aapl    133\n",
       "v       133\n",
       "msft    133\n",
       "intc    132\n",
       "JNJ     132\n",
       "CRM     132\n",
       "ba      131\n",
       "BA      131\n",
       "INTC    130\n",
       "jnj     130\n",
       "crm     130\n",
       "MSFT    129\n",
       "V       129\n",
       "trv     129\n",
       "AAPL    129\n",
       "mcd     129\n",
       "KO      128\n",
       "wmt     128\n",
       "hon     128\n",
       "nke     128\n",
       "dis     127\n",
       "CSCO    126\n",
       "axp     126\n",
       "UNH     126\n",
       "mrk     125\n",
       "HD      124\n",
       "IBM     124\n",
       "JPM     124\n",
       "CVX     123\n",
       "GS      122\n",
       "WBA     122\n",
       "mmm     121\n",
       "pg      119\n",
       "amgn    118\n",
       "dow     116\n",
       "vz      115\n",
       "cat     114\n",
       "Name: ticker symbol, dtype: int64"
      ]
     },
     "execution_count": 22,
     "metadata": {},
     "output_type": "execute_result"
    }
   ],
   "source": [
    "df[\"ticker symbol\"].value_counts().count() # counts the number of categories\n",
    "df[\"ticker symbol\"].value_counts()\n",
    "\n",
    "# add .sort_index() to alphabetically sort the categories:\n",
    "# df[\"ticker symbol\"].value_counts().sort_index()"
   ]
  },
  {
   "cell_type": "markdown",
   "id": "e503bb82-4c34-4cef-8f87-bb53a0a08420",
   "metadata": {},
   "source": [
    "## Feature Engineering\n",
    "\n",
    "### Renaming a Column\n",
    "\n",
    "That space in the column name \"ticker symbol\" is really going to get annoying. Let's change it:"
   ]
  },
  {
   "cell_type": "code",
   "execution_count": 23,
   "id": "8314ceb7-c60b-44cf-8f22-f3b3c26811e5",
   "metadata": {},
   "outputs": [
    {
     "data": {
      "text/html": [
       "<div>\n",
       "<style scoped>\n",
       "    .dataframe tbody tr th:only-of-type {\n",
       "        vertical-align: middle;\n",
       "    }\n",
       "\n",
       "    .dataframe tbody tr th {\n",
       "        vertical-align: top;\n",
       "    }\n",
       "\n",
       "    .dataframe thead th {\n",
       "        text-align: right;\n",
       "    }\n",
       "</style>\n",
       "<table border=\"1\" class=\"dataframe\">\n",
       "  <thead>\n",
       "    <tr style=\"text-align: right;\">\n",
       "      <th></th>\n",
       "      <th>tickerSymbol</th>\n",
       "      <th>date</th>\n",
       "      <th>stockShares</th>\n",
       "      <th>stockPrice</th>\n",
       "      <th>revenue</th>\n",
       "      <th>cogs</th>\n",
       "      <th>quantity</th>\n",
       "      <th>temperature</th>\n",
       "      <th>statement</th>\n",
       "    </tr>\n",
       "  </thead>\n",
       "  <tbody>\n",
       "    <tr>\n",
       "      <th>0</th>\n",
       "      <td>AAPL</td>\n",
       "      <td>2020-01-22</td>\n",
       "      <td>866.883293</td>\n",
       "      <td>1206.332454</td>\n",
       "      <td>295.482953</td>\n",
       "      <td>282.851724</td>\n",
       "      <td>19.042495</td>\n",
       "      <td>18.501153</td>\n",
       "      <td>Sit conubia diam vivamus a arcu dapibus in at ...</td>\n",
       "    </tr>\n",
       "    <tr>\n",
       "      <th>1</th>\n",
       "      <td>AAPL</td>\n",
       "      <td>2020-03-13</td>\n",
       "      <td>866.883293</td>\n",
       "      <td>1601.149567</td>\n",
       "      <td>332.422321</td>\n",
       "      <td>239.641384</td>\n",
       "      <td>12.749161</td>\n",
       "      <td>-17.850676</td>\n",
       "      <td>Metus bibendum mus nostra sodales consectetur,...</td>\n",
       "    </tr>\n",
       "    <tr>\n",
       "      <th>2</th>\n",
       "      <td>aapl</td>\n",
       "      <td>2020-03-26</td>\n",
       "      <td>866.883293</td>\n",
       "      <td>966.541988</td>\n",
       "      <td>290.358237</td>\n",
       "      <td>346.965304</td>\n",
       "      <td>37.337391</td>\n",
       "      <td>-18.727952</td>\n",
       "      <td>Ligula quisque erat, nulla in. Platea, aenean at</td>\n",
       "    </tr>\n",
       "    <tr>\n",
       "      <th>3</th>\n",
       "      <td>AAPL</td>\n",
       "      <td>2020-03-30</td>\n",
       "      <td>866.883293</td>\n",
       "      <td>1047.833463</td>\n",
       "      <td>295.507002</td>\n",
       "      <td>325.697458</td>\n",
       "      <td>29.899850</td>\n",
       "      <td>-19.209063</td>\n",
       "      <td>Dictumst ultrices penatibus, viverra pellentes...</td>\n",
       "    </tr>\n",
       "    <tr>\n",
       "      <th>4</th>\n",
       "      <td>aapl</td>\n",
       "      <td>2020-03-27</td>\n",
       "      <td>866.883293</td>\n",
       "      <td>1004.403268</td>\n",
       "      <td>263.669375</td>\n",
       "      <td>303.239492</td>\n",
       "      <td>20.762000</td>\n",
       "      <td>-19.731995</td>\n",
       "      <td>Dis, accumsan senectus nisl eu at hendrerit. S...</td>\n",
       "    </tr>\n",
       "    <tr>\n",
       "      <th>...</th>\n",
       "      <td>...</td>\n",
       "      <td>...</td>\n",
       "      <td>...</td>\n",
       "      <td>...</td>\n",
       "      <td>...</td>\n",
       "      <td>...</td>\n",
       "      <td>...</td>\n",
       "      <td>...</td>\n",
       "      <td>...</td>\n",
       "    </tr>\n",
       "    <tr>\n",
       "      <th>7855</th>\n",
       "      <td>wmt</td>\n",
       "      <td>2020-10-06</td>\n",
       "      <td>833.979461</td>\n",
       "      <td>1285.952063</td>\n",
       "      <td>311.565775</td>\n",
       "      <td>290.771584</td>\n",
       "      <td>21.007769</td>\n",
       "      <td>18.317446</td>\n",
       "      <td>Id, vestibulum sed laoreet augue turpis felis ...</td>\n",
       "    </tr>\n",
       "    <tr>\n",
       "      <th>7856</th>\n",
       "      <td>WMT</td>\n",
       "      <td>2020-10-05</td>\n",
       "      <td>833.979461</td>\n",
       "      <td>1257.930537</td>\n",
       "      <td>330.121727</td>\n",
       "      <td>315.013983</td>\n",
       "      <td>25.309684</td>\n",
       "      <td>17.749011</td>\n",
       "      <td>Mi ut mi erat eleifend tristique ullamcorper e...</td>\n",
       "    </tr>\n",
       "    <tr>\n",
       "      <th>7857</th>\n",
       "      <td>WMT</td>\n",
       "      <td>2020-10-07</td>\n",
       "      <td>833.979461</td>\n",
       "      <td>1408.577951</td>\n",
       "      <td>388.054447</td>\n",
       "      <td>330.666912</td>\n",
       "      <td>29.662335</td>\n",
       "      <td>16.115598</td>\n",
       "      <td>Aliquam lacus aliquam urna arcu venenatis faci...</td>\n",
       "    </tr>\n",
       "    <tr>\n",
       "      <th>7858</th>\n",
       "      <td>WMT</td>\n",
       "      <td>2020-10-20</td>\n",
       "      <td>833.979461</td>\n",
       "      <td>1258.867973</td>\n",
       "      <td>314.862642</td>\n",
       "      <td>300.179547</td>\n",
       "      <td>21.689385</td>\n",
       "      <td>18.683981</td>\n",
       "      <td>Condimentum pellentesque donec varius quam sit...</td>\n",
       "    </tr>\n",
       "    <tr>\n",
       "      <th>7859</th>\n",
       "      <td>wmt</td>\n",
       "      <td>2020-12-10</td>\n",
       "      <td>833.979461</td>\n",
       "      <td>1023.343929</td>\n",
       "      <td>318.379154</td>\n",
       "      <td>373.475042</td>\n",
       "      <td>45.670000</td>\n",
       "      <td>-18.150573</td>\n",
       "      <td>Natoque integer nec a, lectus varius quis dict...</td>\n",
       "    </tr>\n",
       "  </tbody>\n",
       "</table>\n",
       "<p>7860 rows × 9 columns</p>\n",
       "</div>"
      ],
      "text/plain": [
       "     tickerSymbol        date  stockShares   stockPrice     revenue  \\\n",
       "0            AAPL  2020-01-22   866.883293  1206.332454  295.482953   \n",
       "1            AAPL  2020-03-13   866.883293  1601.149567  332.422321   \n",
       "2            aapl  2020-03-26   866.883293   966.541988  290.358237   \n",
       "3            AAPL  2020-03-30   866.883293  1047.833463  295.507002   \n",
       "4            aapl  2020-03-27   866.883293  1004.403268  263.669375   \n",
       "...           ...         ...          ...          ...         ...   \n",
       "7855          wmt  2020-10-06   833.979461  1285.952063  311.565775   \n",
       "7856          WMT  2020-10-05   833.979461  1257.930537  330.121727   \n",
       "7857          WMT  2020-10-07   833.979461  1408.577951  388.054447   \n",
       "7858          WMT  2020-10-20   833.979461  1258.867973  314.862642   \n",
       "7859          wmt  2020-12-10   833.979461  1023.343929  318.379154   \n",
       "\n",
       "            cogs   quantity  temperature  \\\n",
       "0     282.851724  19.042495    18.501153   \n",
       "1     239.641384  12.749161   -17.850676   \n",
       "2     346.965304  37.337391   -18.727952   \n",
       "3     325.697458  29.899850   -19.209063   \n",
       "4     303.239492  20.762000   -19.731995   \n",
       "...          ...        ...          ...   \n",
       "7855  290.771584  21.007769    18.317446   \n",
       "7856  315.013983  25.309684    17.749011   \n",
       "7857  330.666912  29.662335    16.115598   \n",
       "7858  300.179547  21.689385    18.683981   \n",
       "7859  373.475042  45.670000   -18.150573   \n",
       "\n",
       "                                              statement  \n",
       "0     Sit conubia diam vivamus a arcu dapibus in at ...  \n",
       "1     Metus bibendum mus nostra sodales consectetur,...  \n",
       "2     Ligula quisque erat, nulla in. Platea, aenean at   \n",
       "3     Dictumst ultrices penatibus, viverra pellentes...  \n",
       "4     Dis, accumsan senectus nisl eu at hendrerit. S...  \n",
       "...                                                 ...  \n",
       "7855  Id, vestibulum sed laoreet augue turpis felis ...  \n",
       "7856  Mi ut mi erat eleifend tristique ullamcorper e...  \n",
       "7857  Aliquam lacus aliquam urna arcu venenatis faci...  \n",
       "7858  Condimentum pellentesque donec varius quam sit...  \n",
       "7859  Natoque integer nec a, lectus varius quis dict...  \n",
       "\n",
       "[7860 rows x 9 columns]"
      ]
     },
     "execution_count": 23,
     "metadata": {},
     "output_type": "execute_result"
    }
   ],
   "source": [
    "df.rename(columns = {\"ticker symbol\" : \"tickerSymbol\"})"
   ]
  },
  {
   "cell_type": "markdown",
   "id": "5df8156e-eae0-4e29-8c50-5b9b3509acdf",
   "metadata": {},
   "source": [
    "Quick python syntax side note: the command above includes a format that we've not seen before... `{\"ticker symbol\" : \"ticker_symbol\"}`. The braces (`{}`) define a *dictionary* in python, which associates one value with another. In this case, we are associating the old column name to the new column name.\n",
    "\n",
    "Now check the data types again:"
   ]
  },
  {
   "cell_type": "code",
   "execution_count": 24,
   "id": "6242aadc-af3d-4495-9c7d-9d92a8388787",
   "metadata": {},
   "outputs": [
    {
     "data": {
      "text/plain": [
       "ticker symbol     object\n",
       "date              object\n",
       "stockShares      float64\n",
       "stockPrice       float64\n",
       "revenue          float64\n",
       "cogs             float64\n",
       "quantity         float64\n",
       "temperature      float64\n",
       "statement         object\n",
       "dtype: object"
      ]
     },
     "execution_count": 24,
     "metadata": {},
     "output_type": "execute_result"
    }
   ],
   "source": [
    "df.dtypes"
   ]
  },
  {
   "cell_type": "markdown",
   "id": "3eae1e8a-e5a7-476b-9a8b-b09e42564e74",
   "metadata": {},
   "source": [
    "The column reverted back to the original name. Why?\n",
    "\n",
    "Re-run the `.rename()` command below, this time saving your results and check the data types to make sure the change took effect:"
   ]
  },
  {
   "cell_type": "code",
   "execution_count": 25,
   "id": "9e1e5565-0a17-4873-aad0-f6bc852bf1d6",
   "metadata": {},
   "outputs": [
    {
     "data": {
      "text/plain": [
       "tickerSymbol     object\n",
       "date             object\n",
       "stockShares     float64\n",
       "stockPrice      float64\n",
       "revenue         float64\n",
       "cogs            float64\n",
       "quantity        float64\n",
       "temperature     float64\n",
       "statement        object\n",
       "dtype: object"
      ]
     },
     "execution_count": 25,
     "metadata": {},
     "output_type": "execute_result"
    }
   ],
   "source": [
    "df = df.rename(columns = {\"ticker symbol\" : \"tickerSymbol\"})\n",
    "df.dtypes"
   ]
  },
  {
   "cell_type": "markdown",
   "id": "38f1ede6-9bc4-4e9c-a38d-640581959f6a",
   "metadata": {},
   "source": [
    "### Adding new columns\n",
    "\n",
    "Remember how we created variables in class 01? We used an assignment statement, like the following:"
   ]
  },
  {
   "cell_type": "code",
   "execution_count": 26,
   "id": "73ce6240-28e8-4371-8f0b-8935b7af8c70",
   "metadata": {},
   "outputs": [],
   "source": [
    "x = 42"
   ]
  },
  {
   "cell_type": "markdown",
   "id": "d7b88905-4049-4bd0-85a9-9e4536923b9c",
   "metadata": {},
   "source": [
    "You do the same thing to add a new column to your DataFrame...the variable in this case being the name of the new column:"
   ]
  },
  {
   "cell_type": "code",
   "execution_count": 27,
   "id": "e961d7eb-9752-46d6-9b01-4023ad48c63d",
   "metadata": {},
   "outputs": [
    {
     "data": {
      "text/html": [
       "<div>\n",
       "<style scoped>\n",
       "    .dataframe tbody tr th:only-of-type {\n",
       "        vertical-align: middle;\n",
       "    }\n",
       "\n",
       "    .dataframe tbody tr th {\n",
       "        vertical-align: top;\n",
       "    }\n",
       "\n",
       "    .dataframe thead th {\n",
       "        text-align: right;\n",
       "    }\n",
       "</style>\n",
       "<table border=\"1\" class=\"dataframe\">\n",
       "  <thead>\n",
       "    <tr style=\"text-align: right;\">\n",
       "      <th></th>\n",
       "      <th>tickerSymbol</th>\n",
       "      <th>date</th>\n",
       "      <th>stockShares</th>\n",
       "      <th>stockPrice</th>\n",
       "      <th>revenue</th>\n",
       "      <th>cogs</th>\n",
       "      <th>quantity</th>\n",
       "      <th>temperature</th>\n",
       "      <th>statement</th>\n",
       "      <th>Junk</th>\n",
       "    </tr>\n",
       "  </thead>\n",
       "  <tbody>\n",
       "    <tr>\n",
       "      <th>0</th>\n",
       "      <td>AAPL</td>\n",
       "      <td>2020-01-22</td>\n",
       "      <td>866.883293</td>\n",
       "      <td>1206.332454</td>\n",
       "      <td>295.482953</td>\n",
       "      <td>282.851724</td>\n",
       "      <td>19.042495</td>\n",
       "      <td>18.501153</td>\n",
       "      <td>Sit conubia diam vivamus a arcu dapibus in at ...</td>\n",
       "      <td>28</td>\n",
       "    </tr>\n",
       "    <tr>\n",
       "      <th>1</th>\n",
       "      <td>AAPL</td>\n",
       "      <td>2020-03-13</td>\n",
       "      <td>866.883293</td>\n",
       "      <td>1601.149567</td>\n",
       "      <td>332.422321</td>\n",
       "      <td>239.641384</td>\n",
       "      <td>12.749161</td>\n",
       "      <td>-17.850676</td>\n",
       "      <td>Metus bibendum mus nostra sodales consectetur,...</td>\n",
       "      <td>28</td>\n",
       "    </tr>\n",
       "    <tr>\n",
       "      <th>2</th>\n",
       "      <td>aapl</td>\n",
       "      <td>2020-03-26</td>\n",
       "      <td>866.883293</td>\n",
       "      <td>966.541988</td>\n",
       "      <td>290.358237</td>\n",
       "      <td>346.965304</td>\n",
       "      <td>37.337391</td>\n",
       "      <td>-18.727952</td>\n",
       "      <td>Ligula quisque erat, nulla in. Platea, aenean at</td>\n",
       "      <td>28</td>\n",
       "    </tr>\n",
       "    <tr>\n",
       "      <th>3</th>\n",
       "      <td>AAPL</td>\n",
       "      <td>2020-03-30</td>\n",
       "      <td>866.883293</td>\n",
       "      <td>1047.833463</td>\n",
       "      <td>295.507002</td>\n",
       "      <td>325.697458</td>\n",
       "      <td>29.899850</td>\n",
       "      <td>-19.209063</td>\n",
       "      <td>Dictumst ultrices penatibus, viverra pellentes...</td>\n",
       "      <td>28</td>\n",
       "    </tr>\n",
       "    <tr>\n",
       "      <th>4</th>\n",
       "      <td>aapl</td>\n",
       "      <td>2020-03-27</td>\n",
       "      <td>866.883293</td>\n",
       "      <td>1004.403268</td>\n",
       "      <td>263.669375</td>\n",
       "      <td>303.239492</td>\n",
       "      <td>20.762000</td>\n",
       "      <td>-19.731995</td>\n",
       "      <td>Dis, accumsan senectus nisl eu at hendrerit. S...</td>\n",
       "      <td>28</td>\n",
       "    </tr>\n",
       "    <tr>\n",
       "      <th>...</th>\n",
       "      <td>...</td>\n",
       "      <td>...</td>\n",
       "      <td>...</td>\n",
       "      <td>...</td>\n",
       "      <td>...</td>\n",
       "      <td>...</td>\n",
       "      <td>...</td>\n",
       "      <td>...</td>\n",
       "      <td>...</td>\n",
       "      <td>...</td>\n",
       "    </tr>\n",
       "    <tr>\n",
       "      <th>7855</th>\n",
       "      <td>wmt</td>\n",
       "      <td>2020-10-06</td>\n",
       "      <td>833.979461</td>\n",
       "      <td>1285.952063</td>\n",
       "      <td>311.565775</td>\n",
       "      <td>290.771584</td>\n",
       "      <td>21.007769</td>\n",
       "      <td>18.317446</td>\n",
       "      <td>Id, vestibulum sed laoreet augue turpis felis ...</td>\n",
       "      <td>28</td>\n",
       "    </tr>\n",
       "    <tr>\n",
       "      <th>7856</th>\n",
       "      <td>WMT</td>\n",
       "      <td>2020-10-05</td>\n",
       "      <td>833.979461</td>\n",
       "      <td>1257.930537</td>\n",
       "      <td>330.121727</td>\n",
       "      <td>315.013983</td>\n",
       "      <td>25.309684</td>\n",
       "      <td>17.749011</td>\n",
       "      <td>Mi ut mi erat eleifend tristique ullamcorper e...</td>\n",
       "      <td>28</td>\n",
       "    </tr>\n",
       "    <tr>\n",
       "      <th>7857</th>\n",
       "      <td>WMT</td>\n",
       "      <td>2020-10-07</td>\n",
       "      <td>833.979461</td>\n",
       "      <td>1408.577951</td>\n",
       "      <td>388.054447</td>\n",
       "      <td>330.666912</td>\n",
       "      <td>29.662335</td>\n",
       "      <td>16.115598</td>\n",
       "      <td>Aliquam lacus aliquam urna arcu venenatis faci...</td>\n",
       "      <td>28</td>\n",
       "    </tr>\n",
       "    <tr>\n",
       "      <th>7858</th>\n",
       "      <td>WMT</td>\n",
       "      <td>2020-10-20</td>\n",
       "      <td>833.979461</td>\n",
       "      <td>1258.867973</td>\n",
       "      <td>314.862642</td>\n",
       "      <td>300.179547</td>\n",
       "      <td>21.689385</td>\n",
       "      <td>18.683981</td>\n",
       "      <td>Condimentum pellentesque donec varius quam sit...</td>\n",
       "      <td>28</td>\n",
       "    </tr>\n",
       "    <tr>\n",
       "      <th>7859</th>\n",
       "      <td>wmt</td>\n",
       "      <td>2020-12-10</td>\n",
       "      <td>833.979461</td>\n",
       "      <td>1023.343929</td>\n",
       "      <td>318.379154</td>\n",
       "      <td>373.475042</td>\n",
       "      <td>45.670000</td>\n",
       "      <td>-18.150573</td>\n",
       "      <td>Natoque integer nec a, lectus varius quis dict...</td>\n",
       "      <td>28</td>\n",
       "    </tr>\n",
       "  </tbody>\n",
       "</table>\n",
       "<p>7860 rows × 10 columns</p>\n",
       "</div>"
      ],
      "text/plain": [
       "     tickerSymbol        date  stockShares   stockPrice     revenue  \\\n",
       "0            AAPL  2020-01-22   866.883293  1206.332454  295.482953   \n",
       "1            AAPL  2020-03-13   866.883293  1601.149567  332.422321   \n",
       "2            aapl  2020-03-26   866.883293   966.541988  290.358237   \n",
       "3            AAPL  2020-03-30   866.883293  1047.833463  295.507002   \n",
       "4            aapl  2020-03-27   866.883293  1004.403268  263.669375   \n",
       "...           ...         ...          ...          ...         ...   \n",
       "7855          wmt  2020-10-06   833.979461  1285.952063  311.565775   \n",
       "7856          WMT  2020-10-05   833.979461  1257.930537  330.121727   \n",
       "7857          WMT  2020-10-07   833.979461  1408.577951  388.054447   \n",
       "7858          WMT  2020-10-20   833.979461  1258.867973  314.862642   \n",
       "7859          wmt  2020-12-10   833.979461  1023.343929  318.379154   \n",
       "\n",
       "            cogs   quantity  temperature  \\\n",
       "0     282.851724  19.042495    18.501153   \n",
       "1     239.641384  12.749161   -17.850676   \n",
       "2     346.965304  37.337391   -18.727952   \n",
       "3     325.697458  29.899850   -19.209063   \n",
       "4     303.239492  20.762000   -19.731995   \n",
       "...          ...        ...          ...   \n",
       "7855  290.771584  21.007769    18.317446   \n",
       "7856  315.013983  25.309684    17.749011   \n",
       "7857  330.666912  29.662335    16.115598   \n",
       "7858  300.179547  21.689385    18.683981   \n",
       "7859  373.475042  45.670000   -18.150573   \n",
       "\n",
       "                                              statement  Junk  \n",
       "0     Sit conubia diam vivamus a arcu dapibus in at ...    28  \n",
       "1     Metus bibendum mus nostra sodales consectetur,...    28  \n",
       "2     Ligula quisque erat, nulla in. Platea, aenean at     28  \n",
       "3     Dictumst ultrices penatibus, viverra pellentes...    28  \n",
       "4     Dis, accumsan senectus nisl eu at hendrerit. S...    28  \n",
       "...                                                 ...   ...  \n",
       "7855  Id, vestibulum sed laoreet augue turpis felis ...    28  \n",
       "7856  Mi ut mi erat eleifend tristique ullamcorper e...    28  \n",
       "7857  Aliquam lacus aliquam urna arcu venenatis faci...    28  \n",
       "7858  Condimentum pellentesque donec varius quam sit...    28  \n",
       "7859  Natoque integer nec a, lectus varius quis dict...    28  \n",
       "\n",
       "[7860 rows x 10 columns]"
      ]
     },
     "execution_count": 27,
     "metadata": {},
     "output_type": "execute_result"
    }
   ],
   "source": [
    "df[\"Junk\"] = 28\n",
    "df"
   ]
  },
  {
   "cell_type": "markdown",
   "id": "70fd3ac0-4d55-4f05-ab5e-f11d59d45a4b",
   "metadata": {},
   "source": [
    "### Removing columns\n",
    "\n",
    "Let's now get rid of that \"Junk\" column. To do this, use the `.drop()` method:"
   ]
  },
  {
   "cell_type": "code",
   "execution_count": 28,
   "id": "a675edfd-389e-4a7a-a743-88d43d110a14",
   "metadata": {},
   "outputs": [
    {
     "data": {
      "text/html": [
       "<div>\n",
       "<style scoped>\n",
       "    .dataframe tbody tr th:only-of-type {\n",
       "        vertical-align: middle;\n",
       "    }\n",
       "\n",
       "    .dataframe tbody tr th {\n",
       "        vertical-align: top;\n",
       "    }\n",
       "\n",
       "    .dataframe thead th {\n",
       "        text-align: right;\n",
       "    }\n",
       "</style>\n",
       "<table border=\"1\" class=\"dataframe\">\n",
       "  <thead>\n",
       "    <tr style=\"text-align: right;\">\n",
       "      <th></th>\n",
       "      <th>tickerSymbol</th>\n",
       "      <th>date</th>\n",
       "      <th>stockShares</th>\n",
       "      <th>stockPrice</th>\n",
       "      <th>revenue</th>\n",
       "      <th>cogs</th>\n",
       "      <th>quantity</th>\n",
       "      <th>temperature</th>\n",
       "      <th>statement</th>\n",
       "    </tr>\n",
       "  </thead>\n",
       "  <tbody>\n",
       "    <tr>\n",
       "      <th>0</th>\n",
       "      <td>AAPL</td>\n",
       "      <td>2020-01-22</td>\n",
       "      <td>866.883293</td>\n",
       "      <td>1206.332454</td>\n",
       "      <td>295.482953</td>\n",
       "      <td>282.851724</td>\n",
       "      <td>19.042495</td>\n",
       "      <td>18.501153</td>\n",
       "      <td>Sit conubia diam vivamus a arcu dapibus in at ...</td>\n",
       "    </tr>\n",
       "    <tr>\n",
       "      <th>1</th>\n",
       "      <td>AAPL</td>\n",
       "      <td>2020-03-13</td>\n",
       "      <td>866.883293</td>\n",
       "      <td>1601.149567</td>\n",
       "      <td>332.422321</td>\n",
       "      <td>239.641384</td>\n",
       "      <td>12.749161</td>\n",
       "      <td>-17.850676</td>\n",
       "      <td>Metus bibendum mus nostra sodales consectetur,...</td>\n",
       "    </tr>\n",
       "    <tr>\n",
       "      <th>2</th>\n",
       "      <td>aapl</td>\n",
       "      <td>2020-03-26</td>\n",
       "      <td>866.883293</td>\n",
       "      <td>966.541988</td>\n",
       "      <td>290.358237</td>\n",
       "      <td>346.965304</td>\n",
       "      <td>37.337391</td>\n",
       "      <td>-18.727952</td>\n",
       "      <td>Ligula quisque erat, nulla in. Platea, aenean at</td>\n",
       "    </tr>\n",
       "    <tr>\n",
       "      <th>3</th>\n",
       "      <td>AAPL</td>\n",
       "      <td>2020-03-30</td>\n",
       "      <td>866.883293</td>\n",
       "      <td>1047.833463</td>\n",
       "      <td>295.507002</td>\n",
       "      <td>325.697458</td>\n",
       "      <td>29.899850</td>\n",
       "      <td>-19.209063</td>\n",
       "      <td>Dictumst ultrices penatibus, viverra pellentes...</td>\n",
       "    </tr>\n",
       "    <tr>\n",
       "      <th>4</th>\n",
       "      <td>aapl</td>\n",
       "      <td>2020-03-27</td>\n",
       "      <td>866.883293</td>\n",
       "      <td>1004.403268</td>\n",
       "      <td>263.669375</td>\n",
       "      <td>303.239492</td>\n",
       "      <td>20.762000</td>\n",
       "      <td>-19.731995</td>\n",
       "      <td>Dis, accumsan senectus nisl eu at hendrerit. S...</td>\n",
       "    </tr>\n",
       "    <tr>\n",
       "      <th>...</th>\n",
       "      <td>...</td>\n",
       "      <td>...</td>\n",
       "      <td>...</td>\n",
       "      <td>...</td>\n",
       "      <td>...</td>\n",
       "      <td>...</td>\n",
       "      <td>...</td>\n",
       "      <td>...</td>\n",
       "      <td>...</td>\n",
       "    </tr>\n",
       "    <tr>\n",
       "      <th>7855</th>\n",
       "      <td>wmt</td>\n",
       "      <td>2020-10-06</td>\n",
       "      <td>833.979461</td>\n",
       "      <td>1285.952063</td>\n",
       "      <td>311.565775</td>\n",
       "      <td>290.771584</td>\n",
       "      <td>21.007769</td>\n",
       "      <td>18.317446</td>\n",
       "      <td>Id, vestibulum sed laoreet augue turpis felis ...</td>\n",
       "    </tr>\n",
       "    <tr>\n",
       "      <th>7856</th>\n",
       "      <td>WMT</td>\n",
       "      <td>2020-10-05</td>\n",
       "      <td>833.979461</td>\n",
       "      <td>1257.930537</td>\n",
       "      <td>330.121727</td>\n",
       "      <td>315.013983</td>\n",
       "      <td>25.309684</td>\n",
       "      <td>17.749011</td>\n",
       "      <td>Mi ut mi erat eleifend tristique ullamcorper e...</td>\n",
       "    </tr>\n",
       "    <tr>\n",
       "      <th>7857</th>\n",
       "      <td>WMT</td>\n",
       "      <td>2020-10-07</td>\n",
       "      <td>833.979461</td>\n",
       "      <td>1408.577951</td>\n",
       "      <td>388.054447</td>\n",
       "      <td>330.666912</td>\n",
       "      <td>29.662335</td>\n",
       "      <td>16.115598</td>\n",
       "      <td>Aliquam lacus aliquam urna arcu venenatis faci...</td>\n",
       "    </tr>\n",
       "    <tr>\n",
       "      <th>7858</th>\n",
       "      <td>WMT</td>\n",
       "      <td>2020-10-20</td>\n",
       "      <td>833.979461</td>\n",
       "      <td>1258.867973</td>\n",
       "      <td>314.862642</td>\n",
       "      <td>300.179547</td>\n",
       "      <td>21.689385</td>\n",
       "      <td>18.683981</td>\n",
       "      <td>Condimentum pellentesque donec varius quam sit...</td>\n",
       "    </tr>\n",
       "    <tr>\n",
       "      <th>7859</th>\n",
       "      <td>wmt</td>\n",
       "      <td>2020-12-10</td>\n",
       "      <td>833.979461</td>\n",
       "      <td>1023.343929</td>\n",
       "      <td>318.379154</td>\n",
       "      <td>373.475042</td>\n",
       "      <td>45.670000</td>\n",
       "      <td>-18.150573</td>\n",
       "      <td>Natoque integer nec a, lectus varius quis dict...</td>\n",
       "    </tr>\n",
       "  </tbody>\n",
       "</table>\n",
       "<p>7860 rows × 9 columns</p>\n",
       "</div>"
      ],
      "text/plain": [
       "     tickerSymbol        date  stockShares   stockPrice     revenue  \\\n",
       "0            AAPL  2020-01-22   866.883293  1206.332454  295.482953   \n",
       "1            AAPL  2020-03-13   866.883293  1601.149567  332.422321   \n",
       "2            aapl  2020-03-26   866.883293   966.541988  290.358237   \n",
       "3            AAPL  2020-03-30   866.883293  1047.833463  295.507002   \n",
       "4            aapl  2020-03-27   866.883293  1004.403268  263.669375   \n",
       "...           ...         ...          ...          ...         ...   \n",
       "7855          wmt  2020-10-06   833.979461  1285.952063  311.565775   \n",
       "7856          WMT  2020-10-05   833.979461  1257.930537  330.121727   \n",
       "7857          WMT  2020-10-07   833.979461  1408.577951  388.054447   \n",
       "7858          WMT  2020-10-20   833.979461  1258.867973  314.862642   \n",
       "7859          wmt  2020-12-10   833.979461  1023.343929  318.379154   \n",
       "\n",
       "            cogs   quantity  temperature  \\\n",
       "0     282.851724  19.042495    18.501153   \n",
       "1     239.641384  12.749161   -17.850676   \n",
       "2     346.965304  37.337391   -18.727952   \n",
       "3     325.697458  29.899850   -19.209063   \n",
       "4     303.239492  20.762000   -19.731995   \n",
       "...          ...        ...          ...   \n",
       "7855  290.771584  21.007769    18.317446   \n",
       "7856  315.013983  25.309684    17.749011   \n",
       "7857  330.666912  29.662335    16.115598   \n",
       "7858  300.179547  21.689385    18.683981   \n",
       "7859  373.475042  45.670000   -18.150573   \n",
       "\n",
       "                                              statement  \n",
       "0     Sit conubia diam vivamus a arcu dapibus in at ...  \n",
       "1     Metus bibendum mus nostra sodales consectetur,...  \n",
       "2     Ligula quisque erat, nulla in. Platea, aenean at   \n",
       "3     Dictumst ultrices penatibus, viverra pellentes...  \n",
       "4     Dis, accumsan senectus nisl eu at hendrerit. S...  \n",
       "...                                                 ...  \n",
       "7855  Id, vestibulum sed laoreet augue turpis felis ...  \n",
       "7856  Mi ut mi erat eleifend tristique ullamcorper e...  \n",
       "7857  Aliquam lacus aliquam urna arcu venenatis faci...  \n",
       "7858  Condimentum pellentesque donec varius quam sit...  \n",
       "7859  Natoque integer nec a, lectus varius quis dict...  \n",
       "\n",
       "[7860 rows x 9 columns]"
      ]
     },
     "execution_count": 28,
     "metadata": {},
     "output_type": "execute_result"
    }
   ],
   "source": [
    "df = df.drop(columns = \"Junk\")\n",
    "df"
   ]
  },
  {
   "cell_type": "markdown",
   "id": "0c953a5b-e301-4e34-852f-fa70a502d271",
   "metadata": {},
   "source": [
    "Now, you try it. Add a new column called \"marketValue\" that is calculated as \"stockShares\" * \"stockPrice\"\n",
    "\n",
    "Then look at `df` to ensure the change took effect."
   ]
  },
  {
   "cell_type": "code",
   "execution_count": 29,
   "id": "5d7a02b8-3d0b-42c5-a35b-f7881856e2bd",
   "metadata": {},
   "outputs": [
    {
     "data": {
      "text/html": [
       "<div>\n",
       "<style scoped>\n",
       "    .dataframe tbody tr th:only-of-type {\n",
       "        vertical-align: middle;\n",
       "    }\n",
       "\n",
       "    .dataframe tbody tr th {\n",
       "        vertical-align: top;\n",
       "    }\n",
       "\n",
       "    .dataframe thead th {\n",
       "        text-align: right;\n",
       "    }\n",
       "</style>\n",
       "<table border=\"1\" class=\"dataframe\">\n",
       "  <thead>\n",
       "    <tr style=\"text-align: right;\">\n",
       "      <th></th>\n",
       "      <th>tickerSymbol</th>\n",
       "      <th>date</th>\n",
       "      <th>stockShares</th>\n",
       "      <th>stockPrice</th>\n",
       "      <th>revenue</th>\n",
       "      <th>cogs</th>\n",
       "      <th>quantity</th>\n",
       "      <th>temperature</th>\n",
       "      <th>statement</th>\n",
       "      <th>marketValue</th>\n",
       "    </tr>\n",
       "  </thead>\n",
       "  <tbody>\n",
       "    <tr>\n",
       "      <th>0</th>\n",
       "      <td>AAPL</td>\n",
       "      <td>2020-01-22</td>\n",
       "      <td>866.883293</td>\n",
       "      <td>1206.332454</td>\n",
       "      <td>295.482953</td>\n",
       "      <td>282.851724</td>\n",
       "      <td>19.042495</td>\n",
       "      <td>18.501153</td>\n",
       "      <td>Sit conubia diam vivamus a arcu dapibus in at ...</td>\n",
       "      <td>1.045749e+06</td>\n",
       "    </tr>\n",
       "    <tr>\n",
       "      <th>1</th>\n",
       "      <td>AAPL</td>\n",
       "      <td>2020-03-13</td>\n",
       "      <td>866.883293</td>\n",
       "      <td>1601.149567</td>\n",
       "      <td>332.422321</td>\n",
       "      <td>239.641384</td>\n",
       "      <td>12.749161</td>\n",
       "      <td>-17.850676</td>\n",
       "      <td>Metus bibendum mus nostra sodales consectetur,...</td>\n",
       "      <td>1.388010e+06</td>\n",
       "    </tr>\n",
       "    <tr>\n",
       "      <th>2</th>\n",
       "      <td>aapl</td>\n",
       "      <td>2020-03-26</td>\n",
       "      <td>866.883293</td>\n",
       "      <td>966.541988</td>\n",
       "      <td>290.358237</td>\n",
       "      <td>346.965304</td>\n",
       "      <td>37.337391</td>\n",
       "      <td>-18.727952</td>\n",
       "      <td>Ligula quisque erat, nulla in. Platea, aenean at</td>\n",
       "      <td>8.378791e+05</td>\n",
       "    </tr>\n",
       "    <tr>\n",
       "      <th>3</th>\n",
       "      <td>AAPL</td>\n",
       "      <td>2020-03-30</td>\n",
       "      <td>866.883293</td>\n",
       "      <td>1047.833463</td>\n",
       "      <td>295.507002</td>\n",
       "      <td>325.697458</td>\n",
       "      <td>29.899850</td>\n",
       "      <td>-19.209063</td>\n",
       "      <td>Dictumst ultrices penatibus, viverra pellentes...</td>\n",
       "      <td>9.083493e+05</td>\n",
       "    </tr>\n",
       "    <tr>\n",
       "      <th>4</th>\n",
       "      <td>aapl</td>\n",
       "      <td>2020-03-27</td>\n",
       "      <td>866.883293</td>\n",
       "      <td>1004.403268</td>\n",
       "      <td>263.669375</td>\n",
       "      <td>303.239492</td>\n",
       "      <td>20.762000</td>\n",
       "      <td>-19.731995</td>\n",
       "      <td>Dis, accumsan senectus nisl eu at hendrerit. S...</td>\n",
       "      <td>8.707004e+05</td>\n",
       "    </tr>\n",
       "    <tr>\n",
       "      <th>...</th>\n",
       "      <td>...</td>\n",
       "      <td>...</td>\n",
       "      <td>...</td>\n",
       "      <td>...</td>\n",
       "      <td>...</td>\n",
       "      <td>...</td>\n",
       "      <td>...</td>\n",
       "      <td>...</td>\n",
       "      <td>...</td>\n",
       "      <td>...</td>\n",
       "    </tr>\n",
       "    <tr>\n",
       "      <th>7855</th>\n",
       "      <td>wmt</td>\n",
       "      <td>2020-10-06</td>\n",
       "      <td>833.979461</td>\n",
       "      <td>1285.952063</td>\n",
       "      <td>311.565775</td>\n",
       "      <td>290.771584</td>\n",
       "      <td>21.007769</td>\n",
       "      <td>18.317446</td>\n",
       "      <td>Id, vestibulum sed laoreet augue turpis felis ...</td>\n",
       "      <td>1.072458e+06</td>\n",
       "    </tr>\n",
       "    <tr>\n",
       "      <th>7856</th>\n",
       "      <td>WMT</td>\n",
       "      <td>2020-10-05</td>\n",
       "      <td>833.979461</td>\n",
       "      <td>1257.930537</td>\n",
       "      <td>330.121727</td>\n",
       "      <td>315.013983</td>\n",
       "      <td>25.309684</td>\n",
       "      <td>17.749011</td>\n",
       "      <td>Mi ut mi erat eleifend tristique ullamcorper e...</td>\n",
       "      <td>1.049088e+06</td>\n",
       "    </tr>\n",
       "    <tr>\n",
       "      <th>7857</th>\n",
       "      <td>WMT</td>\n",
       "      <td>2020-10-07</td>\n",
       "      <td>833.979461</td>\n",
       "      <td>1408.577951</td>\n",
       "      <td>388.054447</td>\n",
       "      <td>330.666912</td>\n",
       "      <td>29.662335</td>\n",
       "      <td>16.115598</td>\n",
       "      <td>Aliquam lacus aliquam urna arcu venenatis faci...</td>\n",
       "      <td>1.174725e+06</td>\n",
       "    </tr>\n",
       "    <tr>\n",
       "      <th>7858</th>\n",
       "      <td>WMT</td>\n",
       "      <td>2020-10-20</td>\n",
       "      <td>833.979461</td>\n",
       "      <td>1258.867973</td>\n",
       "      <td>314.862642</td>\n",
       "      <td>300.179547</td>\n",
       "      <td>21.689385</td>\n",
       "      <td>18.683981</td>\n",
       "      <td>Condimentum pellentesque donec varius quam sit...</td>\n",
       "      <td>1.049870e+06</td>\n",
       "    </tr>\n",
       "    <tr>\n",
       "      <th>7859</th>\n",
       "      <td>wmt</td>\n",
       "      <td>2020-12-10</td>\n",
       "      <td>833.979461</td>\n",
       "      <td>1023.343929</td>\n",
       "      <td>318.379154</td>\n",
       "      <td>373.475042</td>\n",
       "      <td>45.670000</td>\n",
       "      <td>-18.150573</td>\n",
       "      <td>Natoque integer nec a, lectus varius quis dict...</td>\n",
       "      <td>8.534478e+05</td>\n",
       "    </tr>\n",
       "  </tbody>\n",
       "</table>\n",
       "<p>7860 rows × 10 columns</p>\n",
       "</div>"
      ],
      "text/plain": [
       "     tickerSymbol        date  stockShares   stockPrice     revenue  \\\n",
       "0            AAPL  2020-01-22   866.883293  1206.332454  295.482953   \n",
       "1            AAPL  2020-03-13   866.883293  1601.149567  332.422321   \n",
       "2            aapl  2020-03-26   866.883293   966.541988  290.358237   \n",
       "3            AAPL  2020-03-30   866.883293  1047.833463  295.507002   \n",
       "4            aapl  2020-03-27   866.883293  1004.403268  263.669375   \n",
       "...           ...         ...          ...          ...         ...   \n",
       "7855          wmt  2020-10-06   833.979461  1285.952063  311.565775   \n",
       "7856          WMT  2020-10-05   833.979461  1257.930537  330.121727   \n",
       "7857          WMT  2020-10-07   833.979461  1408.577951  388.054447   \n",
       "7858          WMT  2020-10-20   833.979461  1258.867973  314.862642   \n",
       "7859          wmt  2020-12-10   833.979461  1023.343929  318.379154   \n",
       "\n",
       "            cogs   quantity  temperature  \\\n",
       "0     282.851724  19.042495    18.501153   \n",
       "1     239.641384  12.749161   -17.850676   \n",
       "2     346.965304  37.337391   -18.727952   \n",
       "3     325.697458  29.899850   -19.209063   \n",
       "4     303.239492  20.762000   -19.731995   \n",
       "...          ...        ...          ...   \n",
       "7855  290.771584  21.007769    18.317446   \n",
       "7856  315.013983  25.309684    17.749011   \n",
       "7857  330.666912  29.662335    16.115598   \n",
       "7858  300.179547  21.689385    18.683981   \n",
       "7859  373.475042  45.670000   -18.150573   \n",
       "\n",
       "                                              statement   marketValue  \n",
       "0     Sit conubia diam vivamus a arcu dapibus in at ...  1.045749e+06  \n",
       "1     Metus bibendum mus nostra sodales consectetur,...  1.388010e+06  \n",
       "2     Ligula quisque erat, nulla in. Platea, aenean at   8.378791e+05  \n",
       "3     Dictumst ultrices penatibus, viverra pellentes...  9.083493e+05  \n",
       "4     Dis, accumsan senectus nisl eu at hendrerit. S...  8.707004e+05  \n",
       "...                                                 ...           ...  \n",
       "7855  Id, vestibulum sed laoreet augue turpis felis ...  1.072458e+06  \n",
       "7856  Mi ut mi erat eleifend tristique ullamcorper e...  1.049088e+06  \n",
       "7857  Aliquam lacus aliquam urna arcu venenatis faci...  1.174725e+06  \n",
       "7858  Condimentum pellentesque donec varius quam sit...  1.049870e+06  \n",
       "7859  Natoque integer nec a, lectus varius quis dict...  8.534478e+05  \n",
       "\n",
       "[7860 rows x 10 columns]"
      ]
     },
     "execution_count": 29,
     "metadata": {},
     "output_type": "execute_result"
    }
   ],
   "source": [
    "df[\"marketValue\"] = df[\"stockShares\"] * df[\"stockPrice\"]\n",
    "df"
   ]
  },
  {
   "cell_type": "markdown",
   "id": "2fc35d86-90a2-41ab-8e91-8c19bb1f5b19",
   "metadata": {},
   "source": [
    "### Changing Data\n",
    "\n",
    "Remember the `tickerSymbol` column has a mix of upper- and lower-case ticker symbols:"
   ]
  },
  {
   "cell_type": "code",
   "execution_count": 30,
   "id": "4785abc5-6463-4dce-8617-345b1e4b5742",
   "metadata": {},
   "outputs": [
    {
     "data": {
      "text/plain": [
       "AAPL    129\n",
       "AMGN    144\n",
       "AXP     136\n",
       "BA      131\n",
       "CAT     148\n",
       "CRM     132\n",
       "CSCO    126\n",
       "CVX     123\n",
       "DIS     135\n",
       "DOW     146\n",
       "GS      122\n",
       "HD      124\n",
       "HON     134\n",
       "IBM     124\n",
       "INTC    130\n",
       "JNJ     132\n",
       "JPM     124\n",
       "KO      128\n",
       "MCD     133\n",
       "MMM     141\n",
       "MRK     137\n",
       "MSFT    129\n",
       "NKE     134\n",
       "PG      143\n",
       "TRV     133\n",
       "UNH     126\n",
       "V       129\n",
       "VZ      147\n",
       "WBA     122\n",
       "WMT     134\n",
       "aapl    133\n",
       "amgn    118\n",
       "axp     126\n",
       "ba      131\n",
       "cat     114\n",
       "crm     130\n",
       "csco    136\n",
       "cvx     139\n",
       "dis     127\n",
       "dow     116\n",
       "gs      140\n",
       "hd      138\n",
       "hon     128\n",
       "ibm     138\n",
       "intc    132\n",
       "jnj     130\n",
       "jpm     138\n",
       "ko      134\n",
       "mcd     129\n",
       "mmm     121\n",
       "mrk     125\n",
       "msft    133\n",
       "nke     128\n",
       "pg      119\n",
       "trv     129\n",
       "unh     136\n",
       "v       133\n",
       "vz      115\n",
       "wba     140\n",
       "wmt     128\n",
       "Name: tickerSymbol, dtype: int64"
      ]
     },
     "execution_count": 30,
     "metadata": {},
     "output_type": "execute_result"
    }
   ],
   "source": [
    "df[\"tickerSymbol\"].value_counts().sort_index()"
   ]
  },
  {
   "cell_type": "markdown",
   "id": "4387b4ae-30ea-4ef3-a937-ffaece26b3c7",
   "metadata": {},
   "source": [
    "In python, you can change the case of a string using either `.str.upper()` or `.str.lower()`. Notice what happens when adding `.str.upper()` before the `.value_counts()` command:"
   ]
  },
  {
   "cell_type": "code",
   "execution_count": 31,
   "id": "2b79c95f-6d28-4ddb-ab20-50c5db4515b6",
   "metadata": {},
   "outputs": [
    {
     "data": {
      "text/plain": [
       "AAPL    262\n",
       "AMGN    262\n",
       "AXP     262\n",
       "BA      262\n",
       "CAT     262\n",
       "CRM     262\n",
       "CSCO    262\n",
       "CVX     262\n",
       "DIS     262\n",
       "DOW     262\n",
       "GS      262\n",
       "HD      262\n",
       "HON     262\n",
       "IBM     262\n",
       "INTC    262\n",
       "JNJ     262\n",
       "JPM     262\n",
       "KO      262\n",
       "MCD     262\n",
       "MMM     262\n",
       "MRK     262\n",
       "MSFT    262\n",
       "NKE     262\n",
       "PG      262\n",
       "TRV     262\n",
       "UNH     262\n",
       "V       262\n",
       "VZ      262\n",
       "WBA     262\n",
       "WMT     262\n",
       "Name: tickerSymbol, dtype: int64"
      ]
     },
     "execution_count": 31,
     "metadata": {},
     "output_type": "execute_result"
    }
   ],
   "source": [
    "df[\"tickerSymbol\"].str.upper().value_counts().sort_index()"
   ]
  },
  {
   "cell_type": "markdown",
   "id": "aa897153-2cc6-4d90-a73e-956f5a133289",
   "metadata": {},
   "source": [
    "Of course, that didn't change the actual values for that column:"
   ]
  },
  {
   "cell_type": "code",
   "execution_count": 34,
   "id": "728d5ea5-d0da-4f47-81b1-069e80f3aea5",
   "metadata": {},
   "outputs": [
    {
     "data": {
      "text/plain": [
       "0       AAPL\n",
       "1       AAPL\n",
       "2       AAPL\n",
       "3       AAPL\n",
       "4       AAPL\n",
       "        ... \n",
       "7855     WMT\n",
       "7856     WMT\n",
       "7857     WMT\n",
       "7858     WMT\n",
       "7859     WMT\n",
       "Name: tickerSymbol, Length: 7860, dtype: object"
      ]
     },
     "execution_count": 34,
     "metadata": {},
     "output_type": "execute_result"
    }
   ],
   "source": [
    "df[\"tickerSymbol\"]"
   ]
  },
  {
   "cell_type": "markdown",
   "id": "976104dd-b612-414b-b0a2-8cff5acaef22",
   "metadata": {},
   "source": [
    "Using an assignment statement, change the \"tickerSymbol\" values to be all in upper-case and re-run the code in the previous cell to check that the changes worked:"
   ]
  },
  {
   "cell_type": "code",
   "execution_count": 33,
   "id": "bc2890ce-ef5c-49cb-aa26-8c02e8071591",
   "metadata": {},
   "outputs": [],
   "source": [
    "df[\"tickerSymbol\"] = df[\"tickerSymbol\"].str.upper()"
   ]
  },
  {
   "cell_type": "markdown",
   "id": "38af11d0-c5c1-44be-a3c0-33397eb4d5c8",
   "metadata": {},
   "source": [
    "### Locating Data\n",
    "\n",
    "What if there are only specific values we want to change?\n",
    "\n",
    "Let's take another look at the distribution of the price data:"
   ]
  },
  {
   "cell_type": "code",
   "execution_count": 35,
   "id": "c6b6dc48-b747-482b-b8b1-270d775f72ce",
   "metadata": {},
   "outputs": [
    {
     "data": {
      "text/plain": [
       "count     7860.000000\n",
       "mean      1312.100263\n",
       "std        541.486311\n",
       "min        476.949801\n",
       "25%       1003.550696\n",
       "50%       1190.045157\n",
       "75%       1434.035044\n",
       "max      12099.338748\n",
       "Name: stockPrice, dtype: float64"
      ]
     },
     "execution_count": 35,
     "metadata": {},
     "output_type": "execute_result"
    },
    {
     "data": {
      "text/plain": [
       "<AxesSubplot: ylabel='Frequency'>"
      ]
     },
     "execution_count": 35,
     "metadata": {},
     "output_type": "execute_result"
    },
    {
     "data": {
      "image/png": "[encoded data removed]",
      "text/plain": [
       "<Figure size 640x480 with 1 Axes>"
      ]
     },
     "metadata": {},
     "output_type": "display_data"
    }
   ],
   "source": [
    "df[\"stockPrice\"].describe()\n",
    "df[\"stockPrice\"].plot.hist(bins = 40)"
   ]
  },
  {
   "cell_type": "markdown",
   "id": "8304322a-eef5-4717-ab6f-0f84396f2783",
   "metadata": {},
   "source": [
    "What are the clues that we have one or more outliers?\n",
    "\n",
    "Once we've identified a value (such as a potential outlier) to change, how do we change it?\n",
    "\n",
    "First, lets locate the row(s) with outliers based on some logical condition. We do this with `.loc[]` ... notice the `[]` instead of `()`. "
   ]
  },
  {
   "cell_type": "code",
   "execution_count": 36,
   "id": "464d2a63-6705-41bc-b259-bbd7501c9ee6",
   "metadata": {},
   "outputs": [
    {
     "data": {
      "text/html": [
       "<div>\n",
       "<style scoped>\n",
       "    .dataframe tbody tr th:only-of-type {\n",
       "        vertical-align: middle;\n",
       "    }\n",
       "\n",
       "    .dataframe tbody tr th {\n",
       "        vertical-align: top;\n",
       "    }\n",
       "\n",
       "    .dataframe thead th {\n",
       "        text-align: right;\n",
       "    }\n",
       "</style>\n",
       "<table border=\"1\" class=\"dataframe\">\n",
       "  <thead>\n",
       "    <tr style=\"text-align: right;\">\n",
       "      <th></th>\n",
       "      <th>tickerSymbol</th>\n",
       "      <th>date</th>\n",
       "      <th>stockShares</th>\n",
       "      <th>stockPrice</th>\n",
       "      <th>revenue</th>\n",
       "      <th>cogs</th>\n",
       "      <th>quantity</th>\n",
       "      <th>temperature</th>\n",
       "      <th>statement</th>\n",
       "      <th>marketValue</th>\n",
       "    </tr>\n",
       "  </thead>\n",
       "  <tbody>\n",
       "    <tr>\n",
       "      <th>0</th>\n",
       "      <td>AAPL</td>\n",
       "      <td>2020-01-22</td>\n",
       "      <td>866.883293</td>\n",
       "      <td>1206.332454</td>\n",
       "      <td>295.482953</td>\n",
       "      <td>282.851724</td>\n",
       "      <td>19.042495</td>\n",
       "      <td>18.501153</td>\n",
       "      <td>Sit conubia diam vivamus a arcu dapibus in at ...</td>\n",
       "      <td>1.045749e+06</td>\n",
       "    </tr>\n",
       "    <tr>\n",
       "      <th>1</th>\n",
       "      <td>AAPL</td>\n",
       "      <td>2020-03-13</td>\n",
       "      <td>866.883293</td>\n",
       "      <td>1601.149567</td>\n",
       "      <td>332.422321</td>\n",
       "      <td>239.641384</td>\n",
       "      <td>12.749161</td>\n",
       "      <td>-17.850676</td>\n",
       "      <td>Metus bibendum mus nostra sodales consectetur,...</td>\n",
       "      <td>1.388010e+06</td>\n",
       "    </tr>\n",
       "    <tr>\n",
       "      <th>2</th>\n",
       "      <td>AAPL</td>\n",
       "      <td>2020-03-26</td>\n",
       "      <td>866.883293</td>\n",
       "      <td>966.541988</td>\n",
       "      <td>290.358237</td>\n",
       "      <td>346.965304</td>\n",
       "      <td>37.337391</td>\n",
       "      <td>-18.727952</td>\n",
       "      <td>Ligula quisque erat, nulla in. Platea, aenean at</td>\n",
       "      <td>8.378791e+05</td>\n",
       "    </tr>\n",
       "    <tr>\n",
       "      <th>3</th>\n",
       "      <td>AAPL</td>\n",
       "      <td>2020-03-30</td>\n",
       "      <td>866.883293</td>\n",
       "      <td>1047.833463</td>\n",
       "      <td>295.507002</td>\n",
       "      <td>325.697458</td>\n",
       "      <td>29.899850</td>\n",
       "      <td>-19.209063</td>\n",
       "      <td>Dictumst ultrices penatibus, viverra pellentes...</td>\n",
       "      <td>9.083493e+05</td>\n",
       "    </tr>\n",
       "    <tr>\n",
       "      <th>4</th>\n",
       "      <td>AAPL</td>\n",
       "      <td>2020-03-27</td>\n",
       "      <td>866.883293</td>\n",
       "      <td>1004.403268</td>\n",
       "      <td>263.669375</td>\n",
       "      <td>303.239492</td>\n",
       "      <td>20.762000</td>\n",
       "      <td>-19.731995</td>\n",
       "      <td>Dis, accumsan senectus nisl eu at hendrerit. S...</td>\n",
       "      <td>8.707004e+05</td>\n",
       "    </tr>\n",
       "    <tr>\n",
       "      <th>...</th>\n",
       "      <td>...</td>\n",
       "      <td>...</td>\n",
       "      <td>...</td>\n",
       "      <td>...</td>\n",
       "      <td>...</td>\n",
       "      <td>...</td>\n",
       "      <td>...</td>\n",
       "      <td>...</td>\n",
       "      <td>...</td>\n",
       "      <td>...</td>\n",
       "    </tr>\n",
       "    <tr>\n",
       "      <th>257</th>\n",
       "      <td>AAPL</td>\n",
       "      <td>2020-07-06</td>\n",
       "      <td>866.883293</td>\n",
       "      <td>1105.874354</td>\n",
       "      <td>334.707321</td>\n",
       "      <td>349.519148</td>\n",
       "      <td>33.822119</td>\n",
       "      <td>17.721060</td>\n",
       "      <td>Elit lacus ac, facilisi sapien massa dictum in...</td>\n",
       "      <td>9.586640e+05</td>\n",
       "    </tr>\n",
       "    <tr>\n",
       "      <th>258</th>\n",
       "      <td>AAPL</td>\n",
       "      <td>2020-11-02</td>\n",
       "      <td>866.883293</td>\n",
       "      <td>1486.758422</td>\n",
       "      <td>345.893151</td>\n",
       "      <td>268.583625</td>\n",
       "      <td>16.020092</td>\n",
       "      <td>-17.459382</td>\n",
       "      <td>A sollicitudin, luctus congue in dui felis. Ac...</td>\n",
       "      <td>1.288846e+06</td>\n",
       "    </tr>\n",
       "    <tr>\n",
       "      <th>259</th>\n",
       "      <td>AAPL</td>\n",
       "      <td>2020-10-30</td>\n",
       "      <td>866.883293</td>\n",
       "      <td>1305.578564</td>\n",
       "      <td>360.275193</td>\n",
       "      <td>318.642085</td>\n",
       "      <td>26.250607</td>\n",
       "      <td>17.106928</td>\n",
       "      <td>Tellus, faucibus tortor feugiat magna porttito...</td>\n",
       "      <td>1.131784e+06</td>\n",
       "    </tr>\n",
       "    <tr>\n",
       "      <th>260</th>\n",
       "      <td>AAPL</td>\n",
       "      <td>2020-08-07</td>\n",
       "      <td>866.883293</td>\n",
       "      <td>1236.435485</td>\n",
       "      <td>324.704306</td>\n",
       "      <td>303.197308</td>\n",
       "      <td>22.578481</td>\n",
       "      <td>-17.879048</td>\n",
       "      <td>Amet neque ut efficitur arcu tempor purus susp...</td>\n",
       "      <td>1.071845e+06</td>\n",
       "    </tr>\n",
       "    <tr>\n",
       "      <th>261</th>\n",
       "      <td>AAPL</td>\n",
       "      <td>2020-09-11</td>\n",
       "      <td>866.883293</td>\n",
       "      <td>1035.636443</td>\n",
       "      <td>283.793792</td>\n",
       "      <td>316.413241</td>\n",
       "      <td>25.804406</td>\n",
       "      <td>19.157769</td>\n",
       "      <td>Lectus tincidunt in tellus nec facilisis eget ...</td>\n",
       "      <td>8.977759e+05</td>\n",
       "    </tr>\n",
       "  </tbody>\n",
       "</table>\n",
       "<p>262 rows × 10 columns</p>\n",
       "</div>"
      ],
      "text/plain": [
       "    tickerSymbol        date  stockShares   stockPrice     revenue  \\\n",
       "0           AAPL  2020-01-22   866.883293  1206.332454  295.482953   \n",
       "1           AAPL  2020-03-13   866.883293  1601.149567  332.422321   \n",
       "2           AAPL  2020-03-26   866.883293   966.541988  290.358237   \n",
       "3           AAPL  2020-03-30   866.883293  1047.833463  295.507002   \n",
       "4           AAPL  2020-03-27   866.883293  1004.403268  263.669375   \n",
       "..           ...         ...          ...          ...         ...   \n",
       "257         AAPL  2020-07-06   866.883293  1105.874354  334.707321   \n",
       "258         AAPL  2020-11-02   866.883293  1486.758422  345.893151   \n",
       "259         AAPL  2020-10-30   866.883293  1305.578564  360.275193   \n",
       "260         AAPL  2020-08-07   866.883293  1236.435485  324.704306   \n",
       "261         AAPL  2020-09-11   866.883293  1035.636443  283.793792   \n",
       "\n",
       "           cogs   quantity  temperature  \\\n",
       "0    282.851724  19.042495    18.501153   \n",
       "1    239.641384  12.749161   -17.850676   \n",
       "2    346.965304  37.337391   -18.727952   \n",
       "3    325.697458  29.899850   -19.209063   \n",
       "4    303.239492  20.762000   -19.731995   \n",
       "..          ...        ...          ...   \n",
       "257  349.519148  33.822119    17.721060   \n",
       "258  268.583625  16.020092   -17.459382   \n",
       "259  318.642085  26.250607    17.106928   \n",
       "260  303.197308  22.578481   -17.879048   \n",
       "261  316.413241  25.804406    19.157769   \n",
       "\n",
       "                                             statement   marketValue  \n",
       "0    Sit conubia diam vivamus a arcu dapibus in at ...  1.045749e+06  \n",
       "1    Metus bibendum mus nostra sodales consectetur,...  1.388010e+06  \n",
       "2    Ligula quisque erat, nulla in. Platea, aenean at   8.378791e+05  \n",
       "3    Dictumst ultrices penatibus, viverra pellentes...  9.083493e+05  \n",
       "4    Dis, accumsan senectus nisl eu at hendrerit. S...  8.707004e+05  \n",
       "..                                                 ...           ...  \n",
       "257  Elit lacus ac, facilisi sapien massa dictum in...  9.586640e+05  \n",
       "258  A sollicitudin, luctus congue in dui felis. Ac...  1.288846e+06  \n",
       "259  Tellus, faucibus tortor feugiat magna porttito...  1.131784e+06  \n",
       "260  Amet neque ut efficitur arcu tempor purus susp...  1.071845e+06  \n",
       "261  Lectus tincidunt in tellus nec facilisis eget ...  8.977759e+05  \n",
       "\n",
       "[262 rows x 10 columns]"
      ]
     },
     "execution_count": 36,
     "metadata": {},
     "output_type": "execute_result"
    },
    {
     "data": {
      "text/plain": [
       "0      295.482953\n",
       "1      332.422321\n",
       "2      290.358237\n",
       "3      295.507002\n",
       "4      263.669375\n",
       "          ...    \n",
       "257    334.707321\n",
       "258    345.893151\n",
       "259    360.275193\n",
       "260    324.704306\n",
       "261    283.793792\n",
       "Name: revenue, Length: 262, dtype: float64"
      ]
     },
     "execution_count": 36,
     "metadata": {},
     "output_type": "execute_result"
    }
   ],
   "source": [
    "# Locating rows based on logical conditions:\n",
    "df.loc[df[\"tickerSymbol\"] == \"AAPL\"]\n",
    "\n",
    "# Locating rows and column:\n",
    "df.loc[df[\"tickerSymbol\"] == \"AAPL\", \"revenue\"]"
   ]
  },
  {
   "cell_type": "markdown",
   "id": "85d2f56b-4abb-43b0-83fa-deaea8c4f886",
   "metadata": {},
   "source": [
    "The general structure of the `.loc[]` command is:\n",
    "```\n",
    "dataFrame.loc[rowCriteria, columnCriteria]\n",
    "```\n",
    "\n",
    "Now, you try...locate any row with a \"stockPrice\" greater than 10000. For now, include all columns:"
   ]
  },
  {
   "cell_type": "code",
   "execution_count": 37,
   "id": "9cd45007-b47f-4607-a84d-a485b56734d5",
   "metadata": {},
   "outputs": [
    {
     "data": {
      "text/html": [
       "<div>\n",
       "<style scoped>\n",
       "    .dataframe tbody tr th:only-of-type {\n",
       "        vertical-align: middle;\n",
       "    }\n",
       "\n",
       "    .dataframe tbody tr th {\n",
       "        vertical-align: top;\n",
       "    }\n",
       "\n",
       "    .dataframe thead th {\n",
       "        text-align: right;\n",
       "    }\n",
       "</style>\n",
       "<table border=\"1\" class=\"dataframe\">\n",
       "  <thead>\n",
       "    <tr style=\"text-align: right;\">\n",
       "      <th></th>\n",
       "      <th>tickerSymbol</th>\n",
       "      <th>date</th>\n",
       "      <th>stockShares</th>\n",
       "      <th>stockPrice</th>\n",
       "      <th>revenue</th>\n",
       "      <th>cogs</th>\n",
       "      <th>quantity</th>\n",
       "      <th>temperature</th>\n",
       "      <th>statement</th>\n",
       "      <th>marketValue</th>\n",
       "    </tr>\n",
       "  </thead>\n",
       "  <tbody>\n",
       "    <tr>\n",
       "      <th>3446</th>\n",
       "      <td>IBM</td>\n",
       "      <td>2020-04-01</td>\n",
       "      <td>934.385355</td>\n",
       "      <td>12099.338748</td>\n",
       "      <td>418.937115</td>\n",
       "      <td>370.897122</td>\n",
       "      <td>42.391047</td>\n",
       "      <td>15.420366</td>\n",
       "      <td>Ante accumsan suspendisse augue. Neque, urna v...</td>\n",
       "      <td>1.130544e+07</td>\n",
       "    </tr>\n",
       "  </tbody>\n",
       "</table>\n",
       "</div>"
      ],
      "text/plain": [
       "     tickerSymbol        date  stockShares    stockPrice     revenue  \\\n",
       "3446          IBM  2020-04-01   934.385355  12099.338748  418.937115   \n",
       "\n",
       "            cogs   quantity  temperature  \\\n",
       "3446  370.897122  42.391047    15.420366   \n",
       "\n",
       "                                              statement   marketValue  \n",
       "3446  Ante accumsan suspendisse augue. Neque, urna v...  1.130544e+07  "
      ]
     },
     "execution_count": 37,
     "metadata": {},
     "output_type": "execute_result"
    }
   ],
   "source": [
    "df.loc[df[\"stockPrice\"] > 10000]"
   ]
  },
  {
   "cell_type": "markdown",
   "id": "c30b21f5-ce02-41dc-83d4-486cec08f9ab",
   "metadata": {},
   "source": [
    "Copy the command above and re-run it, selecting only the \"stockPrice\" column:"
   ]
  },
  {
   "cell_type": "code",
   "execution_count": 38,
   "id": "4cd086e6-ffd8-4c3d-a8a8-ce53dcc94646",
   "metadata": {},
   "outputs": [
    {
     "data": {
      "text/plain": [
       "3446    12099.338748\n",
       "Name: stockPrice, dtype: float64"
      ]
     },
     "execution_count": 38,
     "metadata": {},
     "output_type": "execute_result"
    }
   ],
   "source": [
    "df.loc[df[\"stockPrice\"] > 10000, \"stockPrice\"]"
   ]
  },
  {
   "cell_type": "markdown",
   "id": "e222f2d9-df0a-47f1-84bb-fea28430ee24",
   "metadata": {},
   "source": [
    "Now that we have located the actual outlier value, we can change it with an assignment statement. Run the code below to change it to 10001:"
   ]
  },
  {
   "cell_type": "code",
   "execution_count": 39,
   "id": "dc42e7df-fab7-4ce7-aa48-449147064b89",
   "metadata": {},
   "outputs": [
    {
     "data": {
      "text/plain": [
       "3446    10001.0\n",
       "Name: stockPrice, dtype: float64"
      ]
     },
     "execution_count": 39,
     "metadata": {},
     "output_type": "execute_result"
    }
   ],
   "source": [
    "df.loc[df[\"stockPrice\"] > 10000, \"stockPrice\"] = 10001\n",
    "df.loc[df[\"stockPrice\"] > 10000, \"stockPrice\"]"
   ]
  },
  {
   "cell_type": "markdown",
   "id": "ce6e947e-cb08-42dc-9509-be84f451af47",
   "metadata": {},
   "source": [
    "Of course, we don't want to make the outlier value even worse. Since it's likely a value greater than 10000 is an error, let's change it to `NaN` so that it doesn't impact our analysis. We can do this with the `.NaN` function from the `numpy` module. \n",
    "\n",
    "Import `numpy` and change the outlier value to `NaN` as follows:"
   ]
  },
  {
   "cell_type": "code",
   "execution_count": 40,
   "id": "a6e6493a-7721-4c87-9264-7279c328bb91",
   "metadata": {},
   "outputs": [],
   "source": [
    "import numpy as np\n",
    "df.loc[df[\"stockPrice\"] > 10000, \"stockPrice\"] = np.NaN"
   ]
  },
  {
   "cell_type": "markdown",
   "id": "db31e007-8af6-434f-ae1a-0fbdc900fe89",
   "metadata": {},
   "source": [
    "Notice there is now a missing value for \"stockPrice\":"
   ]
  },
  {
   "cell_type": "code",
   "execution_count": 41,
   "id": "3d049475-fb1a-4f22-9b08-d82702232cef",
   "metadata": {},
   "outputs": [
    {
     "data": {
      "text/plain": [
       "tickerSymbol    0\n",
       "date            0\n",
       "stockShares     0\n",
       "stockPrice      1\n",
       "revenue         0\n",
       "cogs            0\n",
       "quantity        0\n",
       "temperature     0\n",
       "statement       0\n",
       "marketValue     0\n",
       "dtype: int64"
      ]
     },
     "execution_count": 41,
     "metadata": {},
     "output_type": "execute_result"
    }
   ],
   "source": [
    "df.isna().sum()"
   ]
  },
  {
   "cell_type": "markdown",
   "id": "047ff4ac-c968-4d10-91f4-cea0038e5ef0",
   "metadata": {},
   "source": [
    "Run the following code to see the impact this has on our summary stats and histogram:"
   ]
  },
  {
   "cell_type": "code",
   "execution_count": 42,
   "id": "1b0996b1-c506-43ff-9b1a-5f1dbee50fce",
   "metadata": {},
   "outputs": [
    {
     "data": {
      "text/plain": [
       "count    7859.000000\n",
       "mean     1310.727666\n",
       "std       527.668874\n",
       "min       476.949801\n",
       "25%      1003.535640\n",
       "50%      1189.870025\n",
       "75%      1433.993986\n",
       "max      4526.030051\n",
       "Name: stockPrice, dtype: float64"
      ]
     },
     "execution_count": 42,
     "metadata": {},
     "output_type": "execute_result"
    },
    {
     "data": {
      "text/plain": [
       "<AxesSubplot: ylabel='Frequency'>"
      ]
     },
     "execution_count": 42,
     "metadata": {},
     "output_type": "execute_result"
    },
    {
     "data": {
      "image/png": "[encoded data removed]",
      "text/plain": [
       "<Figure size 640x480 with 1 Axes>"
      ]
     },
     "metadata": {},
     "output_type": "display_data"
    }
   ],
   "source": [
    "df[\"stockPrice\"].describe()\n",
    "df[\"stockPrice\"].plot.hist(bins = 40)"
   ]
  },
  {
   "cell_type": "markdown",
   "id": "d23e60d3-5c9f-44de-9b87-cd3bc097a91e",
   "metadata": {},
   "source": [
    "We're not done yet. Remember that python is sequential and we created the \"marketValue\" column *before* changing the outlier value. Here, we can see that the \"marketValue\" didn't change for this row:"
   ]
  },
  {
   "cell_type": "code",
   "execution_count": 43,
   "id": "e590f26f-1b99-4f77-8c39-30b7853bf4e6",
   "metadata": {},
   "outputs": [
    {
     "data": {
      "text/html": [
       "<div>\n",
       "<style scoped>\n",
       "    .dataframe tbody tr th:only-of-type {\n",
       "        vertical-align: middle;\n",
       "    }\n",
       "\n",
       "    .dataframe tbody tr th {\n",
       "        vertical-align: top;\n",
       "    }\n",
       "\n",
       "    .dataframe thead th {\n",
       "        text-align: right;\n",
       "    }\n",
       "</style>\n",
       "<table border=\"1\" class=\"dataframe\">\n",
       "  <thead>\n",
       "    <tr style=\"text-align: right;\">\n",
       "      <th></th>\n",
       "      <th>tickerSymbol</th>\n",
       "      <th>date</th>\n",
       "      <th>stockShares</th>\n",
       "      <th>stockPrice</th>\n",
       "      <th>revenue</th>\n",
       "      <th>cogs</th>\n",
       "      <th>quantity</th>\n",
       "      <th>temperature</th>\n",
       "      <th>statement</th>\n",
       "      <th>marketValue</th>\n",
       "    </tr>\n",
       "  </thead>\n",
       "  <tbody>\n",
       "    <tr>\n",
       "      <th>3446</th>\n",
       "      <td>IBM</td>\n",
       "      <td>2020-04-01</td>\n",
       "      <td>934.385355</td>\n",
       "      <td>NaN</td>\n",
       "      <td>418.937115</td>\n",
       "      <td>370.897122</td>\n",
       "      <td>42.391047</td>\n",
       "      <td>15.420366</td>\n",
       "      <td>Ante accumsan suspendisse augue. Neque, urna v...</td>\n",
       "      <td>1.130544e+07</td>\n",
       "    </tr>\n",
       "  </tbody>\n",
       "</table>\n",
       "</div>"
      ],
      "text/plain": [
       "     tickerSymbol        date  stockShares  stockPrice     revenue  \\\n",
       "3446          IBM  2020-04-01   934.385355         NaN  418.937115   \n",
       "\n",
       "            cogs   quantity  temperature  \\\n",
       "3446  370.897122  42.391047    15.420366   \n",
       "\n",
       "                                              statement   marketValue  \n",
       "3446  Ante accumsan suspendisse augue. Neque, urna v...  1.130544e+07  "
      ]
     },
     "execution_count": 43,
     "metadata": {},
     "output_type": "execute_result"
    }
   ],
   "source": [
    "# I'm using df.index to refer to the specific row number from the DataFrame:\n",
    "df.loc[df.index == 3446]"
   ]
  },
  {
   "cell_type": "markdown",
   "id": "f9f9f7d8-10a3-4913-a63e-ede6c7433cd8",
   "metadata": {},
   "source": [
    "Re-run the following code cell to re-calculate \"marketValue\" and notice that we now have a missing value for that column (because python can't do math with a missing value):"
   ]
  },
  {
   "cell_type": "code",
   "execution_count": 44,
   "id": "fa727176-a75f-406c-a71b-c6aad2f6a4dc",
   "metadata": {},
   "outputs": [
    {
     "data": {
      "text/html": [
       "<div>\n",
       "<style scoped>\n",
       "    .dataframe tbody tr th:only-of-type {\n",
       "        vertical-align: middle;\n",
       "    }\n",
       "\n",
       "    .dataframe tbody tr th {\n",
       "        vertical-align: top;\n",
       "    }\n",
       "\n",
       "    .dataframe thead th {\n",
       "        text-align: right;\n",
       "    }\n",
       "</style>\n",
       "<table border=\"1\" class=\"dataframe\">\n",
       "  <thead>\n",
       "    <tr style=\"text-align: right;\">\n",
       "      <th></th>\n",
       "      <th>tickerSymbol</th>\n",
       "      <th>date</th>\n",
       "      <th>stockShares</th>\n",
       "      <th>stockPrice</th>\n",
       "      <th>revenue</th>\n",
       "      <th>cogs</th>\n",
       "      <th>quantity</th>\n",
       "      <th>temperature</th>\n",
       "      <th>statement</th>\n",
       "      <th>marketValue</th>\n",
       "    </tr>\n",
       "  </thead>\n",
       "  <tbody>\n",
       "    <tr>\n",
       "      <th>3446</th>\n",
       "      <td>IBM</td>\n",
       "      <td>2020-04-01</td>\n",
       "      <td>934.385355</td>\n",
       "      <td>NaN</td>\n",
       "      <td>418.937115</td>\n",
       "      <td>370.897122</td>\n",
       "      <td>42.391047</td>\n",
       "      <td>15.420366</td>\n",
       "      <td>Ante accumsan suspendisse augue. Neque, urna v...</td>\n",
       "      <td>NaN</td>\n",
       "    </tr>\n",
       "  </tbody>\n",
       "</table>\n",
       "</div>"
      ],
      "text/plain": [
       "     tickerSymbol        date  stockShares  stockPrice     revenue  \\\n",
       "3446          IBM  2020-04-01   934.385355         NaN  418.937115   \n",
       "\n",
       "            cogs   quantity  temperature  \\\n",
       "3446  370.897122  42.391047    15.420366   \n",
       "\n",
       "                                              statement  marketValue  \n",
       "3446  Ante accumsan suspendisse augue. Neque, urna v...          NaN  "
      ]
     },
     "execution_count": 44,
     "metadata": {},
     "output_type": "execute_result"
    },
    {
     "data": {
      "text/plain": [
       "tickerSymbol    0\n",
       "date            0\n",
       "stockShares     0\n",
       "stockPrice      1\n",
       "revenue         0\n",
       "cogs            0\n",
       "quantity        0\n",
       "temperature     0\n",
       "statement       0\n",
       "marketValue     1\n",
       "dtype: int64"
      ]
     },
     "execution_count": 44,
     "metadata": {},
     "output_type": "execute_result"
    }
   ],
   "source": [
    "df[\"marketValue\"] = df[\"stockShares\"] * df[\"stockPrice\"]\n",
    "df.loc[df.index == 3446]\n",
    "df.isna().sum()"
   ]
  },
  {
   "cell_type": "markdown",
   "id": "cb225c78-d13c-4452-8662-5984cc0a6790",
   "metadata": {},
   "source": [
    "### Using `.loc[]` with Multiple Conditions\n",
    "\n",
    "If you have multiple logical conditions, you can still combine them with `&` (and) and `|` (or), using parentheses for each condition:"
   ]
  },
  {
   "cell_type": "code",
   "execution_count": 45,
   "id": "3fff1c5c-1076-4849-990b-1c7d057685d6",
   "metadata": {},
   "outputs": [
    {
     "data": {
      "text/html": [
       "<div>\n",
       "<style scoped>\n",
       "    .dataframe tbody tr th:only-of-type {\n",
       "        vertical-align: middle;\n",
       "    }\n",
       "\n",
       "    .dataframe tbody tr th {\n",
       "        vertical-align: top;\n",
       "    }\n",
       "\n",
       "    .dataframe thead th {\n",
       "        text-align: right;\n",
       "    }\n",
       "</style>\n",
       "<table border=\"1\" class=\"dataframe\">\n",
       "  <thead>\n",
       "    <tr style=\"text-align: right;\">\n",
       "      <th></th>\n",
       "      <th>tickerSymbol</th>\n",
       "      <th>date</th>\n",
       "      <th>stockShares</th>\n",
       "      <th>stockPrice</th>\n",
       "      <th>revenue</th>\n",
       "      <th>cogs</th>\n",
       "      <th>quantity</th>\n",
       "      <th>temperature</th>\n",
       "      <th>statement</th>\n",
       "      <th>marketValue</th>\n",
       "    </tr>\n",
       "  </thead>\n",
       "  <tbody>\n",
       "    <tr>\n",
       "      <th>0</th>\n",
       "      <td>AAPL</td>\n",
       "      <td>2020-01-22</td>\n",
       "      <td>866.883293</td>\n",
       "      <td>1206.332454</td>\n",
       "      <td>295.482953</td>\n",
       "      <td>282.851724</td>\n",
       "      <td>19.042495</td>\n",
       "      <td>18.501153</td>\n",
       "      <td>Sit conubia diam vivamus a arcu dapibus in at ...</td>\n",
       "      <td>1.045749e+06</td>\n",
       "    </tr>\n",
       "    <tr>\n",
       "      <th>1</th>\n",
       "      <td>AAPL</td>\n",
       "      <td>2020-03-13</td>\n",
       "      <td>866.883293</td>\n",
       "      <td>1601.149567</td>\n",
       "      <td>332.422321</td>\n",
       "      <td>239.641384</td>\n",
       "      <td>12.749161</td>\n",
       "      <td>-17.850676</td>\n",
       "      <td>Metus bibendum mus nostra sodales consectetur,...</td>\n",
       "      <td>1.388010e+06</td>\n",
       "    </tr>\n",
       "    <tr>\n",
       "      <th>3</th>\n",
       "      <td>AAPL</td>\n",
       "      <td>2020-03-30</td>\n",
       "      <td>866.883293</td>\n",
       "      <td>1047.833463</td>\n",
       "      <td>295.507002</td>\n",
       "      <td>325.697458</td>\n",
       "      <td>29.899850</td>\n",
       "      <td>-19.209063</td>\n",
       "      <td>Dictumst ultrices penatibus, viverra pellentes...</td>\n",
       "      <td>9.083493e+05</td>\n",
       "    </tr>\n",
       "    <tr>\n",
       "      <th>4</th>\n",
       "      <td>AAPL</td>\n",
       "      <td>2020-03-27</td>\n",
       "      <td>866.883293</td>\n",
       "      <td>1004.403268</td>\n",
       "      <td>263.669375</td>\n",
       "      <td>303.239492</td>\n",
       "      <td>20.762000</td>\n",
       "      <td>-19.731995</td>\n",
       "      <td>Dis, accumsan senectus nisl eu at hendrerit. S...</td>\n",
       "      <td>8.707004e+05</td>\n",
       "    </tr>\n",
       "    <tr>\n",
       "      <th>5</th>\n",
       "      <td>AAPL</td>\n",
       "      <td>2020-03-31</td>\n",
       "      <td>866.883293</td>\n",
       "      <td>1207.620115</td>\n",
       "      <td>323.513450</td>\n",
       "      <td>309.315601</td>\n",
       "      <td>23.786200</td>\n",
       "      <td>-18.169980</td>\n",
       "      <td>Egestas malesuada ante vitae. Viverra aenean v...</td>\n",
       "      <td>1.046866e+06</td>\n",
       "    </tr>\n",
       "    <tr>\n",
       "      <th>...</th>\n",
       "      <td>...</td>\n",
       "      <td>...</td>\n",
       "      <td>...</td>\n",
       "      <td>...</td>\n",
       "      <td>...</td>\n",
       "      <td>...</td>\n",
       "      <td>...</td>\n",
       "      <td>...</td>\n",
       "      <td>...</td>\n",
       "      <td>...</td>\n",
       "    </tr>\n",
       "    <tr>\n",
       "      <th>257</th>\n",
       "      <td>AAPL</td>\n",
       "      <td>2020-07-06</td>\n",
       "      <td>866.883293</td>\n",
       "      <td>1105.874354</td>\n",
       "      <td>334.707321</td>\n",
       "      <td>349.519148</td>\n",
       "      <td>33.822119</td>\n",
       "      <td>17.721060</td>\n",
       "      <td>Elit lacus ac, facilisi sapien massa dictum in...</td>\n",
       "      <td>9.586640e+05</td>\n",
       "    </tr>\n",
       "    <tr>\n",
       "      <th>258</th>\n",
       "      <td>AAPL</td>\n",
       "      <td>2020-11-02</td>\n",
       "      <td>866.883293</td>\n",
       "      <td>1486.758422</td>\n",
       "      <td>345.893151</td>\n",
       "      <td>268.583625</td>\n",
       "      <td>16.020092</td>\n",
       "      <td>-17.459382</td>\n",
       "      <td>A sollicitudin, luctus congue in dui felis. Ac...</td>\n",
       "      <td>1.288846e+06</td>\n",
       "    </tr>\n",
       "    <tr>\n",
       "      <th>259</th>\n",
       "      <td>AAPL</td>\n",
       "      <td>2020-10-30</td>\n",
       "      <td>866.883293</td>\n",
       "      <td>1305.578564</td>\n",
       "      <td>360.275193</td>\n",
       "      <td>318.642085</td>\n",
       "      <td>26.250607</td>\n",
       "      <td>17.106928</td>\n",
       "      <td>Tellus, faucibus tortor feugiat magna porttito...</td>\n",
       "      <td>1.131784e+06</td>\n",
       "    </tr>\n",
       "    <tr>\n",
       "      <th>260</th>\n",
       "      <td>AAPL</td>\n",
       "      <td>2020-08-07</td>\n",
       "      <td>866.883293</td>\n",
       "      <td>1236.435485</td>\n",
       "      <td>324.704306</td>\n",
       "      <td>303.197308</td>\n",
       "      <td>22.578481</td>\n",
       "      <td>-17.879048</td>\n",
       "      <td>Amet neque ut efficitur arcu tempor purus susp...</td>\n",
       "      <td>1.071845e+06</td>\n",
       "    </tr>\n",
       "    <tr>\n",
       "      <th>261</th>\n",
       "      <td>AAPL</td>\n",
       "      <td>2020-09-11</td>\n",
       "      <td>866.883293</td>\n",
       "      <td>1035.636443</td>\n",
       "      <td>283.793792</td>\n",
       "      <td>316.413241</td>\n",
       "      <td>25.804406</td>\n",
       "      <td>19.157769</td>\n",
       "      <td>Lectus tincidunt in tellus nec facilisis eget ...</td>\n",
       "      <td>8.977759e+05</td>\n",
       "    </tr>\n",
       "  </tbody>\n",
       "</table>\n",
       "<p>196 rows × 10 columns</p>\n",
       "</div>"
      ],
      "text/plain": [
       "    tickerSymbol        date  stockShares   stockPrice     revenue  \\\n",
       "0           AAPL  2020-01-22   866.883293  1206.332454  295.482953   \n",
       "1           AAPL  2020-03-13   866.883293  1601.149567  332.422321   \n",
       "3           AAPL  2020-03-30   866.883293  1047.833463  295.507002   \n",
       "4           AAPL  2020-03-27   866.883293  1004.403268  263.669375   \n",
       "5           AAPL  2020-03-31   866.883293  1207.620115  323.513450   \n",
       "..           ...         ...          ...          ...         ...   \n",
       "257         AAPL  2020-07-06   866.883293  1105.874354  334.707321   \n",
       "258         AAPL  2020-11-02   866.883293  1486.758422  345.893151   \n",
       "259         AAPL  2020-10-30   866.883293  1305.578564  360.275193   \n",
       "260         AAPL  2020-08-07   866.883293  1236.435485  324.704306   \n",
       "261         AAPL  2020-09-11   866.883293  1035.636443  283.793792   \n",
       "\n",
       "           cogs   quantity  temperature  \\\n",
       "0    282.851724  19.042495    18.501153   \n",
       "1    239.641384  12.749161   -17.850676   \n",
       "3    325.697458  29.899850   -19.209063   \n",
       "4    303.239492  20.762000   -19.731995   \n",
       "5    309.315601  23.786200   -18.169980   \n",
       "..          ...        ...          ...   \n",
       "257  349.519148  33.822119    17.721060   \n",
       "258  268.583625  16.020092   -17.459382   \n",
       "259  318.642085  26.250607    17.106928   \n",
       "260  303.197308  22.578481   -17.879048   \n",
       "261  316.413241  25.804406    19.157769   \n",
       "\n",
       "                                             statement   marketValue  \n",
       "0    Sit conubia diam vivamus a arcu dapibus in at ...  1.045749e+06  \n",
       "1    Metus bibendum mus nostra sodales consectetur,...  1.388010e+06  \n",
       "3    Dictumst ultrices penatibus, viverra pellentes...  9.083493e+05  \n",
       "4    Dis, accumsan senectus nisl eu at hendrerit. S...  8.707004e+05  \n",
       "5    Egestas malesuada ante vitae. Viverra aenean v...  1.046866e+06  \n",
       "..                                                 ...           ...  \n",
       "257  Elit lacus ac, facilisi sapien massa dictum in...  9.586640e+05  \n",
       "258  A sollicitudin, luctus congue in dui felis. Ac...  1.288846e+06  \n",
       "259  Tellus, faucibus tortor feugiat magna porttito...  1.131784e+06  \n",
       "260  Amet neque ut efficitur arcu tempor purus susp...  1.071845e+06  \n",
       "261  Lectus tincidunt in tellus nec facilisis eget ...  8.977759e+05  \n",
       "\n",
       "[196 rows x 10 columns]"
      ]
     },
     "execution_count": 45,
     "metadata": {},
     "output_type": "execute_result"
    }
   ],
   "source": [
    "df.loc[(df[\"stockPrice\"] > 1000) & (df[\"tickerSymbol\"] == \"AAPL\")]"
   ]
  },
  {
   "cell_type": "markdown",
   "id": "3f644c3b-481e-43f4-b74a-0856c6d146f4",
   "metadata": {},
   "source": [
    "### Why use `.loc[]` instead of `.query()`?\n",
    "\n",
    "The primary reason is that you can't change a value with `.query()`...you can only filter using that method. To change the values, you need to use `.loc[]`.\n",
    "\n",
    "Can you use `.loc[]` instead of `.query()` if you're just filtering your data? Yes, but some programmers prefer `.query()` to filter because you don't have to keep re-typing the name of the DataFrame when referring to column names. This is why we cover it."
   ]
  },
  {
   "cell_type": "markdown",
   "id": "f46b67d2-190f-457c-9b5f-aed00aa95f8b",
   "metadata": {},
   "source": [
    "### Transforming Features\n",
    "\n",
    "Plot temperature (x-axis) vs. revenue (y-axis):"
   ]
  },
  {
   "cell_type": "code",
   "execution_count": 46,
   "id": "6a693fca-489e-4a27-9052-af92f0b3a12a",
   "metadata": {},
   "outputs": [
    {
     "data": {
      "text/plain": [
       "<AxesSubplot: xlabel='temperature', ylabel='revenue'>"
      ]
     },
     "execution_count": 46,
     "metadata": {},
     "output_type": "execute_result"
    },
    {
     "data": {
      "image/png": "[encoded data removed]",
      "text/plain": [
       "<Figure size 640x480 with 1 Axes>"
      ]
     },
     "metadata": {},
     "output_type": "display_data"
    }
   ],
   "source": [
    "df.plot.scatter(x = \"temperature\", y = \"revenue\")"
   ]
  },
  {
   "cell_type": "markdown",
   "id": "d35b9862-3168-48b7-afd8-5f086761a9b3",
   "metadata": {},
   "source": [
    "Now, create a new column called \"temperature2\" which squares the temperature. Then, re-run the scatterplot using the new column:"
   ]
  },
  {
   "cell_type": "code",
   "execution_count": 47,
   "id": "9d04f7b2-c944-44d1-b480-953cd5223968",
   "metadata": {},
   "outputs": [
    {
     "data": {
      "text/plain": [
       "<AxesSubplot: xlabel='temperature2', ylabel='revenue'>"
      ]
     },
     "execution_count": 47,
     "metadata": {},
     "output_type": "execute_result"
    },
    {
     "data": {
      "image/png": "[encoded data removed]",
      "text/plain": [
       "<Figure size 640x480 with 1 Axes>"
      ]
     },
     "metadata": {},
     "output_type": "display_data"
    }
   ],
   "source": [
    "df[\"temperature2\"] = df[\"temperature\"] * df[\"temperature\"]\n",
    "df.plot.scatter(x = \"temperature2\", y = \"revenue\")"
   ]
  },
  {
   "cell_type": "markdown",
   "id": "f295126f-6bf9-4226-ab8e-de587bb712c7",
   "metadata": {},
   "source": [
    "***Squaring the variable is a good transformation technique when the original data shows a U-shaped curve.***"
   ]
  },
  {
   "cell_type": "markdown",
   "id": "3a296c9b-25db-48a0-bc5f-c508ff5f7015",
   "metadata": {},
   "source": [
    "Now plot quantity (x-axis) vs. cogs (y-axis):"
   ]
  },
  {
   "cell_type": "code",
   "execution_count": 48,
   "id": "910fe7ec-62f8-4353-9835-0f74f6eb0b70",
   "metadata": {},
   "outputs": [
    {
     "data": {
      "text/plain": [
       "<AxesSubplot: xlabel='quantity', ylabel='cogs'>"
      ]
     },
     "execution_count": 48,
     "metadata": {},
     "output_type": "execute_result"
    },
    {
     "data": {
      "image/png": "[encoded data removed]",
      "text/plain": [
       "<Figure size 640x480 with 1 Axes>"
      ]
     },
     "metadata": {},
     "output_type": "display_data"
    }
   ],
   "source": [
    "df.plot.scatter(x = \"quantity\", y = \"cogs\")"
   ]
  },
  {
   "cell_type": "markdown",
   "id": "85d33809-98e8-4e36-a96a-b2165cbe7106",
   "metadata": {},
   "source": [
    "Create a new column called \"quantityLog\" that logs the data in that column. You can use the `log()` function from `numpy` (which we've already imported as `np`). Then, re-run the scatterplot with the new column:"
   ]
  },
  {
   "cell_type": "code",
   "execution_count": 49,
   "id": "4d365b12-8fc7-4310-b0ed-677494d8770b",
   "metadata": {},
   "outputs": [
    {
     "data": {
      "text/plain": [
       "<AxesSubplot: xlabel='quantityLog', ylabel='cogs'>"
      ]
     },
     "execution_count": 49,
     "metadata": {},
     "output_type": "execute_result"
    },
    {
     "data": {
      "image/png": "[encoded data removed]",
      "text/plain": [
       "<Figure size 640x480 with 1 Axes>"
      ]
     },
     "metadata": {},
     "output_type": "display_data"
    }
   ],
   "source": [
    "df[\"quantityLog\"] = np.log(df[\"quantity\"])\n",
    "df.plot.scatter(x = \"quantityLog\", y = \"cogs\")"
   ]
  },
  {
   "cell_type": "markdown",
   "id": "f7e59a79-0c42-4831-8b9a-be53f4dc7665",
   "metadata": {},
   "source": [
    "***Logging the variable is a good transformation technique when the original data shows a logarithmic curve (similar to half the U-shaped curve, although continuously increasing or decreasing).***"
   ]
  },
  {
   "cell_type": "markdown",
   "id": "a4cec854-ee4c-4f9d-99d0-81cb8c70142b",
   "metadata": {},
   "source": [
    "### Interaction Features\n",
    "\n",
    "Transformations can include more than one variable. Let's look at the relationship of both revenue and cogs to market value.\n",
    "\n",
    "First, plot revenue (x-axis) vs. marketValue (y-axis):"
   ]
  },
  {
   "cell_type": "code",
   "execution_count": 50,
   "id": "7ba13094-d1e0-40a5-b1db-478c0649d353",
   "metadata": {},
   "outputs": [
    {
     "data": {
      "text/plain": [
       "<AxesSubplot: xlabel='revenue', ylabel='marketValue'>"
      ]
     },
     "execution_count": 50,
     "metadata": {},
     "output_type": "execute_result"
    },
    {
     "data": {
      "image/png": "[encoded data removed]",
      "text/plain": [
       "<Figure size 640x480 with 1 Axes>"
      ]
     },
     "metadata": {},
     "output_type": "display_data"
    }
   ],
   "source": [
    "df.plot.scatter(x = \"revenue\", y = \"marketValue\")"
   ]
  },
  {
   "cell_type": "markdown",
   "id": "4bfc4cc0-5c8e-4470-9476-6f87cf61e864",
   "metadata": {},
   "source": [
    "Now, plot cogs (x-axis) vs. marketValue (y-axis):"
   ]
  },
  {
   "cell_type": "code",
   "execution_count": 51,
   "id": "4af560be-e349-477d-8438-022f67f030f1",
   "metadata": {},
   "outputs": [
    {
     "data": {
      "text/plain": [
       "<AxesSubplot: xlabel='cogs', ylabel='marketValue'>"
      ]
     },
     "execution_count": 51,
     "metadata": {},
     "output_type": "execute_result"
    },
    {
     "data": {
      "image/png": "[encoded data removed]",
      "text/plain": [
       "<Figure size 640x480 with 1 Axes>"
      ]
     },
     "metadata": {},
     "output_type": "display_data"
    }
   ],
   "source": [
    "df.plot.scatter(x = \"cogs\", y = \"marketValue\")"
   ]
  },
  {
   "cell_type": "markdown",
   "id": "0a593ea1-4c59-4d8c-b334-34ca0a3643f9",
   "metadata": {},
   "source": [
    "Now, let's take a look at how the ratio of revenue to expenses impacts market value. First, create a new column called \"ratio\" which is calculated as revenue divided by cogs. Then create a scatterplot of ratio (x-axis) to marketValue (y-axis):"
   ]
  },
  {
   "cell_type": "code",
   "execution_count": 52,
   "id": "6e53ef9e-7c61-48aa-94e7-6f9f2df23183",
   "metadata": {},
   "outputs": [
    {
     "data": {
      "text/plain": [
       "<AxesSubplot: xlabel='ratio', ylabel='marketValue'>"
      ]
     },
     "execution_count": 52,
     "metadata": {},
     "output_type": "execute_result"
    },
    {
     "data": {
      "image/png": "[encoded data removed]",
      "text/plain": [
       "<Figure size 640x480 with 1 Axes>"
      ]
     },
     "metadata": {},
     "output_type": "display_data"
    }
   ],
   "source": [
    "df[\"ratio\"] = df[\"revenue\"] / df[\"cogs\"]\n",
    "df.plot.scatter(x = \"ratio\", y = \"marketValue\")"
   ]
  },
  {
   "cell_type": "markdown",
   "id": "171d8c6b-83be-4fbc-9314-9d736292c547",
   "metadata": {},
   "source": [
    "***Interacting 2 variables (e.g., multiplying them together or dividing them) will often create a stronger model feature than keeping the variables separate.***"
   ]
  },
  {
   "cell_type": "markdown",
   "id": "c8560c0c-09ae-4187-b016-4a1bb54ab54d",
   "metadata": {},
   "source": [
    "### Transforming Unstructured Data into a Feature\n",
    "\n",
    "Unstructured data like text, image, audio, video, etc. require processing before we can use it in a model. \n",
    "\n",
    "Add a column \"statementLength\" that is the length of the text in the statement. You can get the length of a string by adding `.str.len()` to the variable as follows:"
   ]
  },
  {
   "cell_type": "code",
   "execution_count": 53,
   "id": "80b94de2-876a-4784-8d97-8f9f2d4f8083",
   "metadata": {},
   "outputs": [
    {
     "data": {
      "text/plain": [
       "count    7860.000000\n",
       "mean       74.080662\n",
       "std        27.518035\n",
       "min        27.000000\n",
       "25%        57.000000\n",
       "50%        68.000000\n",
       "75%        81.000000\n",
       "max       255.000000\n",
       "Name: statementLength, dtype: float64"
      ]
     },
     "execution_count": 53,
     "metadata": {},
     "output_type": "execute_result"
    }
   ],
   "source": [
    "df[\"statementLength\"] = df[\"statement\"].str.len()\n",
    "df[\"statementLength\"].describe()"
   ]
  },
  {
   "cell_type": "markdown",
   "id": "a39f79ec-faa7-4d43-b4c2-fcea2f827d5a",
   "metadata": {},
   "source": [
    "Now, plot statementLength (x-axis) vs. marketValue (y-axis):"
   ]
  },
  {
   "cell_type": "code",
   "execution_count": 54,
   "id": "63de14f3-05ae-46ae-a75e-a33efd3d9834",
   "metadata": {},
   "outputs": [
    {
     "data": {
      "text/plain": [
       "<AxesSubplot: xlabel='statementLength', ylabel='marketValue'>"
      ]
     },
     "execution_count": 54,
     "metadata": {},
     "output_type": "execute_result"
    },
    {
     "data": {
      "image/png": "[encoded data removed]",
      "text/plain": [
       "<Figure size 640x480 with 1 Axes>"
      ]
     },
     "metadata": {},
     "output_type": "display_data"
    }
   ],
   "source": [
    "df.plot.scatter(x = \"statementLength\", y = \"marketValue\")"
   ]
  }
 ],
 "metadata": {
  "kernelspec": {
   "display_name": "Python 3 (ipykernel)",
   "language": "python",
   "name": "python3"
  },
  "language_info": {
   "codemirror_mode": {
    "name": "ipython",
    "version": 3
   },
   "file_extension": ".py",
   "mimetype": "text/x-python",
   "name": "python",
   "nbconvert_exporter": "python",
   "pygments_lexer": "ipython3",
   "version": "3.10.8"
  }
 },
 "nbformat": 4,
 "nbformat_minor": 5
}
